{
 "cells": [
  {
   "cell_type": "markdown",
   "metadata": {},
   "source": [
    "<table align=\"center\" width=100%>\n",
    "    <tr>\n",
    "        <td width=\"15%\">\n",
    "            <img src=\"edaicon.png\">\n",
    "        </td>\n",
    "        <td>\n",
    "            <div align=\"center\">\n",
    "                <font color=\"#21618C\" size=24px>\n",
    "                    <b>Exploratory Data Analysis\n",
    "                    </b>\n",
    "                </font>\n",
    "            </div>\n",
    "        </td>\n",
    "    </tr>\n",
    "</table>"
   ]
  },
  {
   "cell_type": "markdown",
   "metadata": {},
   "source": [
    "## Problem Statement\n",
    "\n",
    "The zomato exploratory data analysis is for the foodies to find the best restaurants, value for money restaurants in their locality. It also helps to find their required cuisines in their locality.  "
   ]
  },
  {
   "cell_type": "markdown",
   "metadata": {},
   "source": [
    "## Data Definition\n",
    "\n",
    "**res_id**: The code given to a restaurant (Categorical) \n",
    "\n",
    "**name**: Name of the restaurant (Categorical)\n",
    "\n",
    "**establishment**: Represents the type of establishment (Categorical)\n",
    "\n",
    "**url**: The website of the restaurant (Categorical)\n",
    "\n",
    "**address**: The address of the restaurant (Categorical)\n",
    "\n",
    "**city**: City in which the restaurant located (Categorical)\n",
    "\n",
    "**city_id**: The code given to a city (Categorical)\n",
    "\n",
    "**locality**: Locality of the restaurant (Categorical)\n",
    "\n",
    "**latitude**: Latitude of the restaurant (Categorical)\n",
    "\n",
    "**longitude**: Longitude of the restaurant (Categorical)\n",
    "\n",
    "**zipcode**: Zipcode of the city in which the restaurant located (Categorical)\n",
    "\n",
    "**country_id**: Country code in which the restaurant located (Categorical)\n",
    "\n",
    "**locality_verbose**: Locality along with the city in which the restaurant located (Categorical)\n",
    "\n",
    "**cuisines**: The cuisines a restaurant serves (Categorical)\n",
    "\n",
    "**timings**: The working hours of a restaurant (Categorical)\n",
    "\n",
    "**average_cost_for_two**: The average amount expected for 2 people (Numerical)\n",
    "\n",
    "**price_range**: The categories for average cost (Categories - 1,2,3,4) (Categorical)\n",
    "\n",
    "**currency**: The currency in which a customer pays (Categorical)\n",
    "\n",
    "**highlights**: The facilities of the restaurant (Categorical)\n",
    "\n",
    "**aggregate_rating**: The overall rating a restaurant has got (Numerical) \n",
    "\n",
    "**rating_text**: Categorized ratings (Categorical)\n",
    "\n",
    "**votes**: Number of votes received by the restaurant from customers (Numerical)\n",
    "\n",
    "**photo_count**: The number of photos of a restaurant (Numerical)\n",
    "\n",
    "**opentable_support**: Restaurant reservation from Opentable (Categorical)\n",
    "\n",
    "**delivery**: The restaurant deliver an order or not (Categorical)\n",
    "\n",
    "**takeaway**: The restaurant allows  a 'takeaway' of an order or not (Categorical)"
   ]
  },
  {
   "cell_type": "markdown",
   "metadata": {},
   "source": [
    "## Table of Contents\n",
    "\n",
    "1. **[Import Libraries](#import_lib)** \n",
    "2. **[Set Options](#set_options)** \n",
    "3. **[Read Data](#Read_Data)** \n",
    "4. **[Understand  and Prepare the Data](#Understand_Data)**\n",
    "5. **[Understand the variables](#Understanding_variables)**\n",
    "6. **[Check for Missing Values](#missing)**\n",
    "7. **[Study Correlation](#correlation)**\n",
    "8. **[Detect Outliers](#outliers)**\n",
    "9. **[Create a new variable 'region'](#region)**\n",
    "10. **[Some more analysis](#more)** \n"
   ]
  },
  {
   "cell_type": "markdown",
   "metadata": {},
   "source": [
    "<a id='import_lib'></a>\n",
    "## 1. Import Libraries"
   ]
  },
  {
   "cell_type": "markdown",
   "metadata": {},
   "source": [
    "<table align =\"left\">\n",
    "    <tr>\n",
    "        <td width=\"8%\">\n",
    "            <img src=\"todo.png\">\n",
    "        </td>\n",
    "        <td>\n",
    "            <div align=\"left\", style=\"font-size:120%\">\n",
    "                <font color=\"#21618C\">\n",
    "                    <b> Import the required libraries and functions\n",
    "                    </b>\n",
    "                </font>\n",
    "            </div>\n",
    "        </td>\n",
    "    </tr>\n",
    "</table>"
   ]
  },
  {
   "cell_type": "code",
   "execution_count": 90,
   "metadata": {},
   "outputs": [],
   "source": [
    "import warnings\n",
    "warnings.filterwarnings('ignore')\n",
    "\n",
    "import os\n",
    "import numpy as np\n",
    "import pandas as pd\n",
    "\n",
    "from sklearn import preprocessing\n",
    "from sklearn.impute import SimpleImputer\n",
    "\n",
    "from sklearn.compose import ColumnTransformer\n",
    "\n",
    "from sklearn.preprocessing import StandardScaler\n",
    "from sklearn.preprocessing import OneHotEncoder\n",
    "from sklearn.model_selection import train_test_split\n",
    "from sklearn.pipeline import Pipeline\n",
    "from sklearn.model_selection import GridSearchCV, cross_val_score, StratifiedKFold\n",
    "\n",
    "from sklearn.tree import DecisionTreeClassifier\n",
    "from sklearn.ensemble import RandomForestClassifier\n",
    "from sklearn.svm import SVC\n",
    "from sklearn.linear_model import LogisticRegression\n",
    "\n",
    "from sklearn.ensemble import GradientBoostingClassifier\n",
    "from sklearn.ensemble import AdaBoostClassifier\n",
    "from sklearn.metrics import confusion_matrix\n",
    "\n",
    "import matplotlib.pyplot as plt\n",
    "import seaborn as sns\n",
    "\n",
    "# from imblearn.over_sampling import SMOTE\n",
    "from sklearn.metrics import accuracy_score, recall_score, precision_score\n"
   ]
  },
  {
   "cell_type": "markdown",
   "metadata": {},
   "source": [
    "<a id='set_options'></a>\n",
    "## 2. Set Options"
   ]
  },
  {
   "cell_type": "markdown",
   "metadata": {},
   "source": [
    "<table align=\"left\">\n",
    "    <tr>\n",
    "        <td width=\"8%\">\n",
    "            <img src=\"todo.png\">\n",
    "        </td>\n",
    "        <td>\n",
    "            <div align=\"left\", style=\"font-size:120%\">\n",
    "                <font color=\"#21618C\">\n",
    "                    <b>Make necessary changes to :<br><br>\n",
    "Set the working directory              \n",
    "                    </b>\n",
    "                </font>\n",
    "            </div>\n",
    "        </td>\n",
    "    </tr>\n",
    "</table>"
   ]
  },
  {
   "cell_type": "code",
   "execution_count": 91,
   "metadata": {},
   "outputs": [
    {
     "data": {
      "text/plain": [
       "['.DS_Store',\n",
       " 'ZomatoRestaurantsIndia.csv',\n",
       " 'todo.png',\n",
       " 'Capstone Project.ipynb',\n",
       " '.ipynb_checkpoints',\n",
       " '.git',\n",
       " 'edaicon.png']"
      ]
     },
     "execution_count": 91,
     "metadata": {},
     "output_type": "execute_result"
    }
   ],
   "source": [
    "os.listdir()"
   ]
  },
  {
   "cell_type": "markdown",
   "metadata": {},
   "source": [
    "<a id='Read_Data'></a>\n",
    "## 3. Read Data"
   ]
  },
  {
   "cell_type": "code",
   "execution_count": 92,
   "metadata": {},
   "outputs": [],
   "source": [
    "dataset = pd.read_csv(\"ZomatoRestaurantsIndia.csv\", parse_dates = [\"timings\"])"
   ]
  },
  {
   "cell_type": "code",
   "execution_count": 93,
   "metadata": {},
   "outputs": [
    {
     "data": {
      "text/html": [
       "<div>\n",
       "<style scoped>\n",
       "    .dataframe tbody tr th:only-of-type {\n",
       "        vertical-align: middle;\n",
       "    }\n",
       "\n",
       "    .dataframe tbody tr th {\n",
       "        vertical-align: top;\n",
       "    }\n",
       "\n",
       "    .dataframe thead th {\n",
       "        text-align: right;\n",
       "    }\n",
       "</style>\n",
       "<table border=\"1\" class=\"dataframe\">\n",
       "  <thead>\n",
       "    <tr style=\"text-align: right;\">\n",
       "      <th></th>\n",
       "      <th>res_id</th>\n",
       "      <th>name</th>\n",
       "      <th>establishment</th>\n",
       "      <th>url</th>\n",
       "      <th>address</th>\n",
       "      <th>city</th>\n",
       "      <th>city_id</th>\n",
       "      <th>locality</th>\n",
       "      <th>latitude</th>\n",
       "      <th>longitude</th>\n",
       "      <th>...</th>\n",
       "      <th>price_range</th>\n",
       "      <th>currency</th>\n",
       "      <th>highlights</th>\n",
       "      <th>aggregate_rating</th>\n",
       "      <th>rating_text</th>\n",
       "      <th>votes</th>\n",
       "      <th>photo_count</th>\n",
       "      <th>opentable_support</th>\n",
       "      <th>delivery</th>\n",
       "      <th>takeaway</th>\n",
       "    </tr>\n",
       "  </thead>\n",
       "  <tbody>\n",
       "    <tr>\n",
       "      <td>0</td>\n",
       "      <td>3400299</td>\n",
       "      <td>Bikanervala</td>\n",
       "      <td>Quick Bites</td>\n",
       "      <td>https://www.zomato.com/agra/bikanervala-khanda...</td>\n",
       "      <td>Kalyani Point, Near Tulsi Cinema, Bypass Road,...</td>\n",
       "      <td>Agra</td>\n",
       "      <td>34</td>\n",
       "      <td>Khandari</td>\n",
       "      <td>27.211450</td>\n",
       "      <td>78.002381</td>\n",
       "      <td>...</td>\n",
       "      <td>2</td>\n",
       "      <td>Rs.</td>\n",
       "      <td>Lunch, Takeaway Available, Credit Card, Dinner...</td>\n",
       "      <td>4.4</td>\n",
       "      <td>Very Good</td>\n",
       "      <td>814</td>\n",
       "      <td>154</td>\n",
       "      <td>0.0</td>\n",
       "      <td>-1</td>\n",
       "      <td>-1</td>\n",
       "    </tr>\n",
       "    <tr>\n",
       "      <td>1</td>\n",
       "      <td>3400005</td>\n",
       "      <td>Mama Chicken Mama Franky House</td>\n",
       "      <td>Quick Bites</td>\n",
       "      <td>https://www.zomato.com/agra/mama-chicken-mama-...</td>\n",
       "      <td>Main Market, Sadar Bazaar, Agra Cantt, Agra</td>\n",
       "      <td>Agra</td>\n",
       "      <td>34</td>\n",
       "      <td>Agra Cantt</td>\n",
       "      <td>27.160569</td>\n",
       "      <td>78.011583</td>\n",
       "      <td>...</td>\n",
       "      <td>2</td>\n",
       "      <td>Rs.</td>\n",
       "      <td>Delivery, No Alcohol Available, Dinner, Takeaw...</td>\n",
       "      <td>4.4</td>\n",
       "      <td>Very Good</td>\n",
       "      <td>1203</td>\n",
       "      <td>161</td>\n",
       "      <td>0.0</td>\n",
       "      <td>-1</td>\n",
       "      <td>-1</td>\n",
       "    </tr>\n",
       "    <tr>\n",
       "      <td>2</td>\n",
       "      <td>3401013</td>\n",
       "      <td>Bhagat Halwai</td>\n",
       "      <td>Quick Bites</td>\n",
       "      <td>https://www.zomato.com/agra/bhagat-halwai-2-sh...</td>\n",
       "      <td>62/1, Near Easy Day, West Shivaji Nagar, Goalp...</td>\n",
       "      <td>Agra</td>\n",
       "      <td>34</td>\n",
       "      <td>Shahganj</td>\n",
       "      <td>27.182938</td>\n",
       "      <td>77.979684</td>\n",
       "      <td>...</td>\n",
       "      <td>1</td>\n",
       "      <td>Rs.</td>\n",
       "      <td>No Alcohol Available, Dinner, Takeaway Availab...</td>\n",
       "      <td>4.2</td>\n",
       "      <td>Very Good</td>\n",
       "      <td>801</td>\n",
       "      <td>107</td>\n",
       "      <td>0.0</td>\n",
       "      <td>1</td>\n",
       "      <td>-1</td>\n",
       "    </tr>\n",
       "    <tr>\n",
       "      <td>3</td>\n",
       "      <td>3400290</td>\n",
       "      <td>Bhagat Halwai</td>\n",
       "      <td>Quick Bites</td>\n",
       "      <td>https://www.zomato.com/agra/bhagat-halwai-civi...</td>\n",
       "      <td>Near Anjana Cinema, Nehru Nagar, Civil Lines, ...</td>\n",
       "      <td>Agra</td>\n",
       "      <td>34</td>\n",
       "      <td>Civil Lines</td>\n",
       "      <td>27.205668</td>\n",
       "      <td>78.004799</td>\n",
       "      <td>...</td>\n",
       "      <td>1</td>\n",
       "      <td>Rs.</td>\n",
       "      <td>Takeaway Available, Credit Card, Lunch, Delive...</td>\n",
       "      <td>4.3</td>\n",
       "      <td>Very Good</td>\n",
       "      <td>693</td>\n",
       "      <td>157</td>\n",
       "      <td>0.0</td>\n",
       "      <td>1</td>\n",
       "      <td>-1</td>\n",
       "    </tr>\n",
       "    <tr>\n",
       "      <td>4</td>\n",
       "      <td>3401744</td>\n",
       "      <td>The Salt Cafe Kitchen &amp; Bar</td>\n",
       "      <td>Casual Dining</td>\n",
       "      <td>https://www.zomato.com/agra/the-salt-cafe-kitc...</td>\n",
       "      <td>1C,3rd Floor, Fatehabad Road, Tajganj, Agra</td>\n",
       "      <td>Agra</td>\n",
       "      <td>34</td>\n",
       "      <td>Tajganj</td>\n",
       "      <td>27.157709</td>\n",
       "      <td>78.052421</td>\n",
       "      <td>...</td>\n",
       "      <td>3</td>\n",
       "      <td>Rs.</td>\n",
       "      <td>Lunch, Serves Alcohol, Cash, Credit Card, Dinn...</td>\n",
       "      <td>4.9</td>\n",
       "      <td>Excellent</td>\n",
       "      <td>470</td>\n",
       "      <td>291</td>\n",
       "      <td>0.0</td>\n",
       "      <td>1</td>\n",
       "      <td>-1</td>\n",
       "    </tr>\n",
       "  </tbody>\n",
       "</table>\n",
       "<p>5 rows × 26 columns</p>\n",
       "</div>"
      ],
      "text/plain": [
       "    res_id                            name  establishment  \\\n",
       "0  3400299                     Bikanervala    Quick Bites   \n",
       "1  3400005  Mama Chicken Mama Franky House    Quick Bites   \n",
       "2  3401013                   Bhagat Halwai    Quick Bites   \n",
       "3  3400290                   Bhagat Halwai    Quick Bites   \n",
       "4  3401744     The Salt Cafe Kitchen & Bar  Casual Dining   \n",
       "\n",
       "                                                 url  \\\n",
       "0  https://www.zomato.com/agra/bikanervala-khanda...   \n",
       "1  https://www.zomato.com/agra/mama-chicken-mama-...   \n",
       "2  https://www.zomato.com/agra/bhagat-halwai-2-sh...   \n",
       "3  https://www.zomato.com/agra/bhagat-halwai-civi...   \n",
       "4  https://www.zomato.com/agra/the-salt-cafe-kitc...   \n",
       "\n",
       "                                             address  city  city_id  \\\n",
       "0  Kalyani Point, Near Tulsi Cinema, Bypass Road,...  Agra       34   \n",
       "1        Main Market, Sadar Bazaar, Agra Cantt, Agra  Agra       34   \n",
       "2  62/1, Near Easy Day, West Shivaji Nagar, Goalp...  Agra       34   \n",
       "3  Near Anjana Cinema, Nehru Nagar, Civil Lines, ...  Agra       34   \n",
       "4        1C,3rd Floor, Fatehabad Road, Tajganj, Agra  Agra       34   \n",
       "\n",
       "      locality   latitude  longitude  ... price_range  currency  \\\n",
       "0     Khandari  27.211450  78.002381  ...           2       Rs.   \n",
       "1   Agra Cantt  27.160569  78.011583  ...           2       Rs.   \n",
       "2     Shahganj  27.182938  77.979684  ...           1       Rs.   \n",
       "3  Civil Lines  27.205668  78.004799  ...           1       Rs.   \n",
       "4      Tajganj  27.157709  78.052421  ...           3       Rs.   \n",
       "\n",
       "                                          highlights aggregate_rating  \\\n",
       "0  Lunch, Takeaway Available, Credit Card, Dinner...              4.4   \n",
       "1  Delivery, No Alcohol Available, Dinner, Takeaw...              4.4   \n",
       "2  No Alcohol Available, Dinner, Takeaway Availab...              4.2   \n",
       "3  Takeaway Available, Credit Card, Lunch, Delive...              4.3   \n",
       "4  Lunch, Serves Alcohol, Cash, Credit Card, Dinn...              4.9   \n",
       "\n",
       "  rating_text  votes  photo_count opentable_support delivery  takeaway  \n",
       "0   Very Good    814          154               0.0       -1        -1  \n",
       "1   Very Good   1203          161               0.0       -1        -1  \n",
       "2   Very Good    801          107               0.0        1        -1  \n",
       "3   Very Good    693          157               0.0        1        -1  \n",
       "4   Excellent    470          291               0.0        1        -1  \n",
       "\n",
       "[5 rows x 26 columns]"
      ]
     },
     "execution_count": 93,
     "metadata": {},
     "output_type": "execute_result"
    }
   ],
   "source": [
    "dataset.head()"
   ]
  },
  {
   "cell_type": "markdown",
   "metadata": {},
   "source": [
    "<a id='Understand_Data'></a>\n",
    "## 4. Understand  and Prepare the Data"
   ]
  },
  {
   "cell_type": "markdown",
   "metadata": {},
   "source": [
    "A well-prepared data proves beneficial for analysis as it limits errors and inaccuracies that can occur during analysis. The processed data is more accessible to users.<br> <br>\n",
    "                         Data understanding is the process of getting familiar with the data, to identify data type, to discover first insights into the data, or to detect interesting subsets to form hypotheses about hidden information. Whereas, data preparation is the process of cleaning and transforming raw data before analysis. It is an important step before processing and often involves reformatting data, making corrections to data. <br> <br>\n",
    "                        Data preparation is often a lengthy process, but it is essential as a prerequisite to put data in context to get insights and eliminate bias resulting from poor data quality."
   ]
  },
  {
   "cell_type": "markdown",
   "metadata": {},
   "source": [
    "<table align=\"left\">\n",
    "    <tr>\n",
    "        <td width=\"8%\">\n",
    "            <img src=\"todo.png\">\n",
    "        </td>\n",
    "        <td>\n",
    "            <div align=\"left\", style=\"font-size:120%\">\n",
    "                <font color=\"#21618C\">\n",
    "                    <b> Analyze and prepare data:<br>\n",
    "                        1. Check dimensions of the dataframe <br>\n",
    "                        2. View the head of the data<br>\n",
    "                        3. Note the redundant variables and drop them <br>\n",
    "                        4. Check the data types. Refer to data definition to ensure your data types are correct. If data types are not as per business context, change the data types as per requirement <br>\n",
    "                        5. Check for duplicates<br>\n",
    "                        Note: It is an art to explore data and one will need more and more practice to gain expertise in this area\n",
    "                    </b>\n",
    "                </font>\n",
    "            </div>\n",
    "        </td>\n",
    "    </tr>\n",
    "</table>"
   ]
  },
  {
   "cell_type": "markdown",
   "metadata": {},
   "source": [
    "### -------------------------*** Provide the inference's from the output of every code executed.***----------------------------"
   ]
  },
  {
   "cell_type": "markdown",
   "metadata": {},
   "source": [
    "**1. Check dimensions of the dataframe in terms of rows and columns**"
   ]
  },
  {
   "cell_type": "code",
   "execution_count": 94,
   "metadata": {},
   "outputs": [
    {
     "data": {
      "text/plain": [
       "(211944, 26)"
      ]
     },
     "execution_count": 94,
     "metadata": {},
     "output_type": "execute_result"
    }
   ],
   "source": [
    "dataset.shape"
   ]
  },
  {
   "cell_type": "markdown",
   "metadata": {},
   "source": [
    "###### 211944 Rows, 26 columns"
   ]
  },
  {
   "cell_type": "markdown",
   "metadata": {},
   "source": [
    "**2. View the head of the data**"
   ]
  },
  {
   "cell_type": "code",
   "execution_count": 95,
   "metadata": {},
   "outputs": [
    {
     "data": {
      "text/html": [
       "<div>\n",
       "<style scoped>\n",
       "    .dataframe tbody tr th:only-of-type {\n",
       "        vertical-align: middle;\n",
       "    }\n",
       "\n",
       "    .dataframe tbody tr th {\n",
       "        vertical-align: top;\n",
       "    }\n",
       "\n",
       "    .dataframe thead th {\n",
       "        text-align: right;\n",
       "    }\n",
       "</style>\n",
       "<table border=\"1\" class=\"dataframe\">\n",
       "  <thead>\n",
       "    <tr style=\"text-align: right;\">\n",
       "      <th></th>\n",
       "      <th>res_id</th>\n",
       "      <th>name</th>\n",
       "      <th>establishment</th>\n",
       "      <th>url</th>\n",
       "      <th>address</th>\n",
       "      <th>city</th>\n",
       "      <th>city_id</th>\n",
       "      <th>locality</th>\n",
       "      <th>latitude</th>\n",
       "      <th>longitude</th>\n",
       "      <th>...</th>\n",
       "      <th>price_range</th>\n",
       "      <th>currency</th>\n",
       "      <th>highlights</th>\n",
       "      <th>aggregate_rating</th>\n",
       "      <th>rating_text</th>\n",
       "      <th>votes</th>\n",
       "      <th>photo_count</th>\n",
       "      <th>opentable_support</th>\n",
       "      <th>delivery</th>\n",
       "      <th>takeaway</th>\n",
       "    </tr>\n",
       "  </thead>\n",
       "  <tbody>\n",
       "    <tr>\n",
       "      <td>0</td>\n",
       "      <td>3400299</td>\n",
       "      <td>Bikanervala</td>\n",
       "      <td>Quick Bites</td>\n",
       "      <td>https://www.zomato.com/agra/bikanervala-khanda...</td>\n",
       "      <td>Kalyani Point, Near Tulsi Cinema, Bypass Road,...</td>\n",
       "      <td>Agra</td>\n",
       "      <td>34</td>\n",
       "      <td>Khandari</td>\n",
       "      <td>27.211450</td>\n",
       "      <td>78.002381</td>\n",
       "      <td>...</td>\n",
       "      <td>2</td>\n",
       "      <td>Rs.</td>\n",
       "      <td>Lunch, Takeaway Available, Credit Card, Dinner...</td>\n",
       "      <td>4.4</td>\n",
       "      <td>Very Good</td>\n",
       "      <td>814</td>\n",
       "      <td>154</td>\n",
       "      <td>0.0</td>\n",
       "      <td>-1</td>\n",
       "      <td>-1</td>\n",
       "    </tr>\n",
       "    <tr>\n",
       "      <td>1</td>\n",
       "      <td>3400005</td>\n",
       "      <td>Mama Chicken Mama Franky House</td>\n",
       "      <td>Quick Bites</td>\n",
       "      <td>https://www.zomato.com/agra/mama-chicken-mama-...</td>\n",
       "      <td>Main Market, Sadar Bazaar, Agra Cantt, Agra</td>\n",
       "      <td>Agra</td>\n",
       "      <td>34</td>\n",
       "      <td>Agra Cantt</td>\n",
       "      <td>27.160569</td>\n",
       "      <td>78.011583</td>\n",
       "      <td>...</td>\n",
       "      <td>2</td>\n",
       "      <td>Rs.</td>\n",
       "      <td>Delivery, No Alcohol Available, Dinner, Takeaw...</td>\n",
       "      <td>4.4</td>\n",
       "      <td>Very Good</td>\n",
       "      <td>1203</td>\n",
       "      <td>161</td>\n",
       "      <td>0.0</td>\n",
       "      <td>-1</td>\n",
       "      <td>-1</td>\n",
       "    </tr>\n",
       "    <tr>\n",
       "      <td>2</td>\n",
       "      <td>3401013</td>\n",
       "      <td>Bhagat Halwai</td>\n",
       "      <td>Quick Bites</td>\n",
       "      <td>https://www.zomato.com/agra/bhagat-halwai-2-sh...</td>\n",
       "      <td>62/1, Near Easy Day, West Shivaji Nagar, Goalp...</td>\n",
       "      <td>Agra</td>\n",
       "      <td>34</td>\n",
       "      <td>Shahganj</td>\n",
       "      <td>27.182938</td>\n",
       "      <td>77.979684</td>\n",
       "      <td>...</td>\n",
       "      <td>1</td>\n",
       "      <td>Rs.</td>\n",
       "      <td>No Alcohol Available, Dinner, Takeaway Availab...</td>\n",
       "      <td>4.2</td>\n",
       "      <td>Very Good</td>\n",
       "      <td>801</td>\n",
       "      <td>107</td>\n",
       "      <td>0.0</td>\n",
       "      <td>1</td>\n",
       "      <td>-1</td>\n",
       "    </tr>\n",
       "    <tr>\n",
       "      <td>3</td>\n",
       "      <td>3400290</td>\n",
       "      <td>Bhagat Halwai</td>\n",
       "      <td>Quick Bites</td>\n",
       "      <td>https://www.zomato.com/agra/bhagat-halwai-civi...</td>\n",
       "      <td>Near Anjana Cinema, Nehru Nagar, Civil Lines, ...</td>\n",
       "      <td>Agra</td>\n",
       "      <td>34</td>\n",
       "      <td>Civil Lines</td>\n",
       "      <td>27.205668</td>\n",
       "      <td>78.004799</td>\n",
       "      <td>...</td>\n",
       "      <td>1</td>\n",
       "      <td>Rs.</td>\n",
       "      <td>Takeaway Available, Credit Card, Lunch, Delive...</td>\n",
       "      <td>4.3</td>\n",
       "      <td>Very Good</td>\n",
       "      <td>693</td>\n",
       "      <td>157</td>\n",
       "      <td>0.0</td>\n",
       "      <td>1</td>\n",
       "      <td>-1</td>\n",
       "    </tr>\n",
       "    <tr>\n",
       "      <td>4</td>\n",
       "      <td>3401744</td>\n",
       "      <td>The Salt Cafe Kitchen &amp; Bar</td>\n",
       "      <td>Casual Dining</td>\n",
       "      <td>https://www.zomato.com/agra/the-salt-cafe-kitc...</td>\n",
       "      <td>1C,3rd Floor, Fatehabad Road, Tajganj, Agra</td>\n",
       "      <td>Agra</td>\n",
       "      <td>34</td>\n",
       "      <td>Tajganj</td>\n",
       "      <td>27.157709</td>\n",
       "      <td>78.052421</td>\n",
       "      <td>...</td>\n",
       "      <td>3</td>\n",
       "      <td>Rs.</td>\n",
       "      <td>Lunch, Serves Alcohol, Cash, Credit Card, Dinn...</td>\n",
       "      <td>4.9</td>\n",
       "      <td>Excellent</td>\n",
       "      <td>470</td>\n",
       "      <td>291</td>\n",
       "      <td>0.0</td>\n",
       "      <td>1</td>\n",
       "      <td>-1</td>\n",
       "    </tr>\n",
       "  </tbody>\n",
       "</table>\n",
       "<p>5 rows × 26 columns</p>\n",
       "</div>"
      ],
      "text/plain": [
       "    res_id                            name  establishment  \\\n",
       "0  3400299                     Bikanervala    Quick Bites   \n",
       "1  3400005  Mama Chicken Mama Franky House    Quick Bites   \n",
       "2  3401013                   Bhagat Halwai    Quick Bites   \n",
       "3  3400290                   Bhagat Halwai    Quick Bites   \n",
       "4  3401744     The Salt Cafe Kitchen & Bar  Casual Dining   \n",
       "\n",
       "                                                 url  \\\n",
       "0  https://www.zomato.com/agra/bikanervala-khanda...   \n",
       "1  https://www.zomato.com/agra/mama-chicken-mama-...   \n",
       "2  https://www.zomato.com/agra/bhagat-halwai-2-sh...   \n",
       "3  https://www.zomato.com/agra/bhagat-halwai-civi...   \n",
       "4  https://www.zomato.com/agra/the-salt-cafe-kitc...   \n",
       "\n",
       "                                             address  city  city_id  \\\n",
       "0  Kalyani Point, Near Tulsi Cinema, Bypass Road,...  Agra       34   \n",
       "1        Main Market, Sadar Bazaar, Agra Cantt, Agra  Agra       34   \n",
       "2  62/1, Near Easy Day, West Shivaji Nagar, Goalp...  Agra       34   \n",
       "3  Near Anjana Cinema, Nehru Nagar, Civil Lines, ...  Agra       34   \n",
       "4        1C,3rd Floor, Fatehabad Road, Tajganj, Agra  Agra       34   \n",
       "\n",
       "      locality   latitude  longitude  ... price_range  currency  \\\n",
       "0     Khandari  27.211450  78.002381  ...           2       Rs.   \n",
       "1   Agra Cantt  27.160569  78.011583  ...           2       Rs.   \n",
       "2     Shahganj  27.182938  77.979684  ...           1       Rs.   \n",
       "3  Civil Lines  27.205668  78.004799  ...           1       Rs.   \n",
       "4      Tajganj  27.157709  78.052421  ...           3       Rs.   \n",
       "\n",
       "                                          highlights aggregate_rating  \\\n",
       "0  Lunch, Takeaway Available, Credit Card, Dinner...              4.4   \n",
       "1  Delivery, No Alcohol Available, Dinner, Takeaw...              4.4   \n",
       "2  No Alcohol Available, Dinner, Takeaway Availab...              4.2   \n",
       "3  Takeaway Available, Credit Card, Lunch, Delive...              4.3   \n",
       "4  Lunch, Serves Alcohol, Cash, Credit Card, Dinn...              4.9   \n",
       "\n",
       "  rating_text  votes  photo_count opentable_support delivery  takeaway  \n",
       "0   Very Good    814          154               0.0       -1        -1  \n",
       "1   Very Good   1203          161               0.0       -1        -1  \n",
       "2   Very Good    801          107               0.0        1        -1  \n",
       "3   Very Good    693          157               0.0        1        -1  \n",
       "4   Excellent    470          291               0.0        1        -1  \n",
       "\n",
       "[5 rows x 26 columns]"
      ]
     },
     "execution_count": 95,
     "metadata": {},
     "output_type": "execute_result"
    }
   ],
   "source": [
    "dataset.head()"
   ]
  },
  {
   "cell_type": "markdown",
   "metadata": {},
   "source": [
    "**3. Note the redundant variables and drop them**"
   ]
  },
  {
   "cell_type": "code",
   "execution_count": 96,
   "metadata": {},
   "outputs": [],
   "source": [
    "#  takeaway, opentable_support, currency are redundant variables as they have only 1 value.\n",
    "redundant = ['takeaway', 'opentable_support', 'currency']\n",
    "dataset = dataset.drop(['takeaway', 'opentable_support', 'currency'], axis = 1)\n"
   ]
  },
  {
   "cell_type": "code",
   "execution_count": 97,
   "metadata": {},
   "outputs": [],
   "source": [
    "# Zipcode has too many null values so it should be removed\n",
    "# City ID has same values corresponding to city so it can be removed\n",
    "dataset = dataset.drop(['zipcode', 'city_id'], axis = 1)"
   ]
  },
  {
   "cell_type": "code",
   "execution_count": null,
   "metadata": {},
   "outputs": [],
   "source": []
  },
  {
   "cell_type": "markdown",
   "metadata": {},
   "source": [
    "**4. Check the data types. Refer to data definition to ensure your data types are correct. If data types are not as per business context, change the data types as per requirement**\n"
   ]
  },
  {
   "cell_type": "code",
   "execution_count": 98,
   "metadata": {},
   "outputs": [
    {
     "data": {
      "text/plain": [
       "res_id                     0\n",
       "name                       0\n",
       "establishment           4827\n",
       "url                        0\n",
       "address                  134\n",
       "city                       0\n",
       "locality                   0\n",
       "latitude                   0\n",
       "longitude                  0\n",
       "country_id                 0\n",
       "locality_verbose           0\n",
       "cuisines                1391\n",
       "timings                 3874\n",
       "average_cost_for_two       0\n",
       "price_range                0\n",
       "highlights              2069\n",
       "aggregate_rating           0\n",
       "rating_text                0\n",
       "votes                      0\n",
       "photo_count                0\n",
       "delivery                   0\n",
       "dtype: int64"
      ]
     },
     "execution_count": 98,
     "metadata": {},
     "output_type": "execute_result"
    }
   ],
   "source": [
    "dataset.isnull().sum()"
   ]
  },
  {
   "cell_type": "code",
   "execution_count": 99,
   "metadata": {},
   "outputs": [
    {
     "data": {
      "text/plain": [
       "res_id                    int64\n",
       "name                     object\n",
       "establishment            object\n",
       "url                      object\n",
       "address                  object\n",
       "city                     object\n",
       "locality                 object\n",
       "latitude                float64\n",
       "longitude               float64\n",
       "country_id                int64\n",
       "locality_verbose         object\n",
       "cuisines                 object\n",
       "timings                  object\n",
       "average_cost_for_two      int64\n",
       "price_range               int64\n",
       "highlights               object\n",
       "aggregate_rating        float64\n",
       "rating_text              object\n",
       "votes                     int64\n",
       "photo_count               int64\n",
       "delivery                  int64\n",
       "dtype: object"
      ]
     },
     "execution_count": 99,
     "metadata": {},
     "output_type": "execute_result"
    }
   ],
   "source": [
    "dataset.dtypes"
   ]
  },
  {
   "cell_type": "markdown",
   "metadata": {},
   "source": [
    "#### Change the incorrect data type"
   ]
  },
  {
   "cell_type": "code",
   "execution_count": 100,
   "metadata": {},
   "outputs": [],
   "source": [
    "cat_attr = ['res_id', 'name', 'establishment', 'url',\n",
    "            'address', 'city', 'locality', 'latitude',\n",
    "            'longitude', 'locality_verbose', 'cuisines',\n",
    "            'timings', 'price_range', 'highlights', 'rating_text', 'delivery']"
   ]
  },
  {
   "cell_type": "code",
   "execution_count": 101,
   "metadata": {},
   "outputs": [],
   "source": [
    "dataset[cat_attr] = dataset[cat_attr].astype(\"category\")"
   ]
  },
  {
   "cell_type": "code",
   "execution_count": 102,
   "metadata": {},
   "outputs": [
    {
     "data": {
      "text/plain": [
       "res_id                  category\n",
       "name                    category\n",
       "establishment           category\n",
       "url                     category\n",
       "address                 category\n",
       "city                    category\n",
       "locality                category\n",
       "latitude                category\n",
       "longitude               category\n",
       "country_id                 int64\n",
       "locality_verbose        category\n",
       "cuisines                category\n",
       "timings                 category\n",
       "average_cost_for_two       int64\n",
       "price_range             category\n",
       "highlights              category\n",
       "aggregate_rating         float64\n",
       "rating_text             category\n",
       "votes                      int64\n",
       "photo_count                int64\n",
       "delivery                category\n",
       "dtype: object"
      ]
     },
     "execution_count": 102,
     "metadata": {},
     "output_type": "execute_result"
    }
   ],
   "source": [
    "dataset.dtypes"
   ]
  },
  {
   "cell_type": "markdown",
   "metadata": {},
   "source": [
    "**5. Check for Duplicates**"
   ]
  },
  {
   "cell_type": "code",
   "execution_count": 103,
   "metadata": {},
   "outputs": [],
   "source": [
    "duplicateRows = dataset[dataset.duplicated()]"
   ]
  },
  {
   "cell_type": "code",
   "execution_count": 104,
   "metadata": {},
   "outputs": [
    {
     "name": "stdout",
     "output_type": "stream",
     "text": [
      "          res_id                            name  establishment  \\\n",
      "101      3400059           Peshawri - ITC Mughal    Fine Dining   \n",
      "116      3400060           Taj Bano - ITC Mughal    Fine Dining   \n",
      "140      3400017                  Pinch Of Spice  Casual Dining   \n",
      "141      3400018                  Pinch Of Spice  Casual Dining   \n",
      "142      3400850                      Urban Deck  Casual Dining   \n",
      "...          ...                             ...            ...   \n",
      "211937  18855810             Biryani aur Baatein  Casual Dining   \n",
      "211938  18662583                     Wok On Fire  Casual Dining   \n",
      "211939   3202251  Kali Mirch Cafe And Restaurant  Casual Dining   \n",
      "211941  18984164                The Grand Thakar  Casual Dining   \n",
      "211943  18879846      Freshcos - The Health Cafe           Café   \n",
      "\n",
      "                                                      url  \\\n",
      "101     https://www.zomato.com/agra/peshawri-itc-mugha...   \n",
      "116     https://www.zomato.com/agra/taj-bano-itc-mugha...   \n",
      "140     https://www.zomato.com/agra/pinch-of-spice-civ...   \n",
      "141     https://www.zomato.com/agra/pinch-of-spice-taj...   \n",
      "142     https://www.zomato.com/agra/urban-deck-2-civil...   \n",
      "...                                                   ...   \n",
      "211937  https://www.zomato.com/vadodara/biryani-aur-ba...   \n",
      "211938  https://www.zomato.com/vadodara/wok-on-fire-fa...   \n",
      "211939  https://www.zomato.com/vadodara/kali-mirch-caf...   \n",
      "211941  https://www.zomato.com/vadodara/the-grand-thak...   \n",
      "211943  https://www.zomato.com/vadodara/freshcos-the-h...   \n",
      "\n",
      "                                                  address      city  \\\n",
      "101             ITC Mughal, Fatehabad Road, Tajganj, Agra      Agra   \n",
      "116             ITC Mughal, Fatehabad Road, Tajganj, Agra      Agra   \n",
      "140     23/453, Opposite Sanjay Cinema, Wazipura Road,...      Agra   \n",
      "141                 1076/2, Fatehabad Road, Tajganj, Agra      Agra   \n",
      "142     5th Floor, The P L Palace Hotel, MG Road, Sanj...      Agra   \n",
      "...                                                   ...       ...   \n",
      "211937  Shop 14, Atlantis K-10, A Wing, Genda Circle R...  Vadodara   \n",
      "211938  Ground Floor 1, Rossette Building, Opposite Se...  Vadodara   \n",
      "211939  Manu Smriti Complex, Near Navrachna School, GI...  Vadodara   \n",
      "211941  3rd Floor, Shreem Shalini Mall, Opposite Conqu...  Vadodara   \n",
      "211943  Shop 7, Ground Floor, Opposite Natubhai Circle...  Vadodara   \n",
      "\n",
      "                   locality   latitude  longitude  country_id  ...  \\\n",
      "101     ITC Mughal, Tajganj  27.161150  78.043993           1  ...   \n",
      "116     ITC Mughal, Tajganj  27.161132  78.044022           1  ...   \n",
      "140             Civil Lines  27.201735  78.007625           1  ...   \n",
      "141                 Tajganj  27.159649  78.043304           1  ...   \n",
      "142             Civil Lines  27.199573  78.003699           1  ...   \n",
      "...                     ...        ...        ...         ...  ...   \n",
      "211937             Alkapuri  22.317746  73.168043           1  ...   \n",
      "211938            Fatehgunj  22.323357  73.187461           1  ...   \n",
      "211939            Fatehgunj  22.336931  73.192356           1  ...   \n",
      "211941             Alkapuri  22.310563  73.171164           1  ...   \n",
      "211943             Vadiwadi  22.309935  73.158768           1  ...   \n",
      "\n",
      "                                  cuisines  \\\n",
      "101                  North Indian, Mughlai   \n",
      "116                  Mughlai, North Indian   \n",
      "140         North Indian, Chinese, Mughlai   \n",
      "141     North Indian, Chinese, Continental   \n",
      "142         Mexican, Italian, North Indian   \n",
      "...                                    ...   \n",
      "211937           Biryani, Mughlai, Chinese   \n",
      "211938                      Chinese, Asian   \n",
      "211939                        North Indian   \n",
      "211941     Gujarati, North Indian, Chinese   \n",
      "211943          Cafe, Healthy Food, Coffee   \n",
      "\n",
      "                                                  timings  \\\n",
      "101                 12:30 PM to 2:45 PM, 7 PM to 11:45 PM   \n",
      "116     6 AM to 10:30 AM, 12:30 PM to 2:30 PM, 7 PM to...   \n",
      "140                     12 Noon to 4 PM, 7 PM to 11:30 PM   \n",
      "141                         12 Noon to 11:30 PM (Mon-Sun)   \n",
      "142                           1PM to 12Midnight (Mon-Sun)   \n",
      "...                                                   ...   \n",
      "211937           11:30am – 3:30pm, 7:30pm – 1am (Mon-Sun)   \n",
      "211938                                     11 AM to 11 PM   \n",
      "211939                11am – 3pm, 7pm – 11:30pm (Mon-Sun)   \n",
      "211941              11:30 AM to 3:30 PM, 7:30 PM to 11 PM   \n",
      "211943                               7am – 11pm (Mon-Sun)   \n",
      "\n",
      "       average_cost_for_two  price_range  \\\n",
      "101                    6000            4   \n",
      "116                    2500            4   \n",
      "140                    1600            4   \n",
      "141                    1600            4   \n",
      "142                    1600            4   \n",
      "...                     ...          ...   \n",
      "211937                  500            2   \n",
      "211938                 1000            3   \n",
      "211939                  600            2   \n",
      "211941                  700            2   \n",
      "211943                  600            2   \n",
      "\n",
      "                                               highlights aggregate_rating  \\\n",
      "101     Lunch, Cash, Credit Card, Dinner, Debit Card, ...              4.4   \n",
      "116     Credit Card, Lunch, Cash, Debit Card, Dinner, ...              4.3   \n",
      "140     Lunch, Delivery, Credit Card, Dinner, Cash, Ta...              4.6   \n",
      "141     Delivery, Dinner, Cash, Credit Card, Debit Car...              4.6   \n",
      "142     Dinner, Cash, Debit Card, Takeaway Available, ...              4.3   \n",
      "...                                                   ...              ...   \n",
      "211937  Dinner, Cash, Takeaway Available, Debit Card, ...              4.1   \n",
      "211938  Dinner, Cash, Debit Card, Lunch, Takeaway Avai...              4.0   \n",
      "211939  Dinner, Cash, Lunch, Delivery, Indoor Seating,...              4.1   \n",
      "211941  Dinner, Cash, Debit Card, Lunch, Takeaway Avai...              4.0   \n",
      "211943  Dinner, Cash, Takeaway Available, Debit Card, ...              4.0   \n",
      "\n",
      "        rating_text votes  photo_count  delivery  \n",
      "101       Very Good   353          154        -1  \n",
      "116       Very Good    96          205        -1  \n",
      "140       Excellent   915          105         1  \n",
      "141       Excellent   965          690         1  \n",
      "142       Very Good   672          192         1  \n",
      "...             ...   ...          ...       ...  \n",
      "211937    Very Good   154           96        -1  \n",
      "211938    Very Good   301          126         1  \n",
      "211939    Very Good   243           40        -1  \n",
      "211941    Very Good   111           38        -1  \n",
      "211943    Very Good    93           53         1  \n",
      "\n",
      "[151533 rows x 21 columns]\n"
     ]
    }
   ],
   "source": [
    "print(duplicateRows)"
   ]
  },
  {
   "cell_type": "markdown",
   "metadata": {},
   "source": [
    "<a id = 'Understanding_variables'> </a>\n",
    "## 5. Understand the variables"
   ]
  },
  {
   "cell_type": "markdown",
   "metadata": {},
   "source": [
    "**1. Variable 'name'**"
   ]
  },
  {
   "cell_type": "code",
   "execution_count": 105,
   "metadata": {},
   "outputs": [
    {
     "name": "stdout",
     "output_type": "stream",
     "text": [
      "Dominos Pizza            3164\n",
      "KFC                      1343\n",
      "Cafe Coffee Day          1068\n",
      "Pizza Hut                 986\n",
      "Subway                    776\n",
      "                         ... \n",
      "Maldhari Dayning Hall       1\n",
      "Maldhari Restaurant         1\n",
      "Malgudi Mithais             1\n",
      "Malgudi Tiffin              1\n",
      "# Wednesday                 1\n",
      "Name: name, Length: 40965, dtype: int64\n"
     ]
    }
   ],
   "source": [
    "print(dataset.name.value_counts())"
   ]
  },
  {
   "cell_type": "code",
   "execution_count": 106,
   "metadata": {},
   "outputs": [],
   "source": [
    "# Name of the restaurant is dominated by dominos pizza (3164) in the zomato app."
   ]
  },
  {
   "cell_type": "markdown",
   "metadata": {},
   "source": [
    "**2. Variable 'establishment'**"
   ]
  },
  {
   "cell_type": "code",
   "execution_count": 107,
   "metadata": {},
   "outputs": [
    {
     "name": "stdout",
     "output_type": "stream",
     "text": [
      "Quick Bites        64390\n",
      "Casual Dining      61808\n",
      "Café               22760\n",
      "Bakery              8282\n",
      "Dessert Parlour     7961\n",
      "Bar                 6553\n",
      "Fine Dining         6401\n",
      "Sweet Shop          6103\n",
      "Beverage Shop       5571\n",
      "Dhaba               2939\n",
      "Lounge              2761\n",
      "Food Court          2722\n",
      "Kiosk               1829\n",
      "Bhojanalya          1400\n",
      "Pub                 1396\n",
      "Food Truck          1289\n",
      "Microbrewery         866\n",
      "Mess                 611\n",
      "Paan Shop            521\n",
      "Club                 340\n",
      "Confectionery        306\n",
      "Butcher Shop         170\n",
      "Cocktail Bar          64\n",
      "Shack                 44\n",
      "Irani Cafe            24\n",
      "Pop up                 6\n",
      "Name: establishment, dtype: int64\n"
     ]
    }
   ],
   "source": [
    "print(dataset.establishment.value_counts())"
   ]
  },
  {
   "cell_type": "code",
   "execution_count": 108,
   "metadata": {},
   "outputs": [],
   "source": [
    "# Establishment is dominated by Quick Bites (64390) in the zomato app."
   ]
  },
  {
   "cell_type": "markdown",
   "metadata": {},
   "source": [
    "**3. Variable 'city'**"
   ]
  },
  {
   "cell_type": "code",
   "execution_count": 109,
   "metadata": {},
   "outputs": [
    {
     "name": "stdout",
     "output_type": "stream",
     "text": [
      "Chennai          11630\n",
      "Mumbai            6497\n",
      "Bangalore         4971\n",
      "Pune              4217\n",
      "Lucknow           4121\n",
      "                 ...  \n",
      "Ghaziabad          132\n",
      "Faridabad          124\n",
      "Howrah              66\n",
      "Greater Noida       33\n",
      "Nayagaon            17\n",
      "Name: city, Length: 98, dtype: int64\n"
     ]
    }
   ],
   "source": [
    "print(dataset.city.value_counts())"
   ]
  },
  {
   "cell_type": "code",
   "execution_count": 110,
   "metadata": {},
   "outputs": [],
   "source": [
    "# Cities from which users use the app the most is Chennai (11630)"
   ]
  },
  {
   "cell_type": "markdown",
   "metadata": {},
   "source": [
    "**Let us find the count of restaurants in each city**"
   ]
  },
  {
   "cell_type": "code",
   "execution_count": 111,
   "metadata": {},
   "outputs": [
    {
     "name": "stdout",
     "output_type": "stream",
     "text": [
      "Chennai          11630\n",
      "Mumbai            6497\n",
      "Bangalore         4971\n",
      "Pune              4217\n",
      "Lucknow           4121\n",
      "                 ...  \n",
      "Ghaziabad          132\n",
      "Faridabad          124\n",
      "Howrah              66\n",
      "Greater Noida       33\n",
      "Nayagaon            17\n",
      "Name: city, Length: 98, dtype: int64\n"
     ]
    }
   ],
   "source": [
    "print(dataset.city.value_counts())"
   ]
  },
  {
   "cell_type": "markdown",
   "metadata": {},
   "source": [
    "**4. Variable 'locality'**"
   ]
  },
  {
   "cell_type": "code",
   "execution_count": 112,
   "metadata": {},
   "outputs": [
    {
     "name": "stdout",
     "output_type": "stream",
     "text": [
      "Civil Lines                     3660\n",
      "Model Town                      2241\n",
      "Ana Sagar Lake                  1760\n",
      "Vijay Nagar                     1548\n",
      "Shastri Nagar                   1454\n",
      "                                ... \n",
      "Omega 1                            1\n",
      "The Fern Residency, Ratanada       1\n",
      "Omega 2                            1\n",
      "One Centre, New Palsia             1\n",
      "Quality Inn - Shravanthi,          1\n",
      "Name: locality, Length: 3731, dtype: int64\n"
     ]
    }
   ],
   "source": [
    "print(dataset.locality.value_counts())"
   ]
  },
  {
   "cell_type": "markdown",
   "metadata": {},
   "source": [
    "**4. Variable 'latitude'**\n",
    "\n",
    "From the variable 'latitude', we know the latitudinal location of the restaurant\n",
    "\n",
    "The Latitudinal extent of India 8º4‛N to 37º6‛ N. \n",
    "\n",
    "We must check whether we have any points beyond this extent."
   ]
  },
  {
   "cell_type": "markdown",
   "metadata": {},
   "source": [
    "- We need to replace all these values with NaN's."
   ]
  },
  {
   "cell_type": "markdown",
   "metadata": {},
   "source": [
    "- check if the values are replace by NaN's"
   ]
  },
  {
   "cell_type": "markdown",
   "metadata": {},
   "source": [
    "- We see all the values are replaced by NaN's"
   ]
  },
  {
   "cell_type": "code",
   "execution_count": 113,
   "metadata": {},
   "outputs": [],
   "source": [
    "# Convert Degrees and minutes to radians \n",
    "# 8º4‛N is equal to 0.315322818 radians\n",
    "# 37º6‛N is equal to 0.647517152 radians"
   ]
  },
  {
   "cell_type": "code",
   "execution_count": 114,
   "metadata": {},
   "outputs": [],
   "source": [
    "radians_1 = 0.315322818\n",
    "radians_2 = 0.647517152"
   ]
  },
  {
   "cell_type": "code",
   "execution_count": 115,
   "metadata": {},
   "outputs": [
    {
     "data": {
      "text/plain": [
       "(211944, 21)"
      ]
     },
     "execution_count": 115,
     "metadata": {},
     "output_type": "execute_result"
    }
   ],
   "source": [
    "dataset.shape"
   ]
  },
  {
   "cell_type": "code",
   "execution_count": 116,
   "metadata": {},
   "outputs": [],
   "source": [
    "dataset['latitude'] = dataset['latitude'].astype('float64')\n",
    "dataset['latitude_in_radians'] = np.radians(dataset['latitude'])"
   ]
  },
  {
   "cell_type": "code",
   "execution_count": 117,
   "metadata": {},
   "outputs": [],
   "source": [
    "columns = dataset.columns"
   ]
  },
  {
   "cell_type": "code",
   "execution_count": 118,
   "metadata": {},
   "outputs": [],
   "source": [
    "data_out_of_bounds = dataset.loc[(dataset['latitude_in_radians'] < radians_1) |\n",
    "                                 (dataset['latitude_in_radians'] > radians_2), ]"
   ]
  },
  {
   "cell_type": "code",
   "execution_count": 119,
   "metadata": {},
   "outputs": [],
   "source": [
    "# dataset = dataset.difference(data_out_of_bounds)\n",
    "dataset = dataset[~dataset.isin(data_out_of_bounds).all(1)]"
   ]
  },
  {
   "cell_type": "code",
   "execution_count": 120,
   "metadata": {},
   "outputs": [
    {
     "data": {
      "text/plain": [
       "(148968, 22)"
      ]
     },
     "execution_count": 120,
     "metadata": {},
     "output_type": "execute_result"
    }
   ],
   "source": [
    "dataset.shape"
   ]
  },
  {
   "cell_type": "markdown",
   "metadata": {},
   "source": [
    "**5. Variable 'longitude'**\n",
    "\n",
    "From the variable 'longitude', we know the longitudinal location of the restaurant\n",
    "\n",
    "The Longitudinal extent of India is from 68°7'E to 97°25'E\n",
    "\n",
    "We must check whether we have any points beyond this extent."
   ]
  },
  {
   "cell_type": "code",
   "execution_count": null,
   "metadata": {},
   "outputs": [],
   "source": [
    "radians_1 = 1.18886011\n",
    "radians_2 = 1.70024158"
   ]
  },
  {
   "cell_type": "code",
   "execution_count": 121,
   "metadata": {},
   "outputs": [],
   "source": [
    "dataset['longitude'] = dataset['longitude'].astype('float64')\n",
    "dataset['longitude_in_radians'] = np.radians(dataset['longitude'])"
   ]
  },
  {
   "cell_type": "code",
   "execution_count": 122,
   "metadata": {},
   "outputs": [],
   "source": [
    "columns = dataset.columns"
   ]
  },
  {
   "cell_type": "code",
   "execution_count": 123,
   "metadata": {},
   "outputs": [
    {
     "data": {
      "text/html": [
       "<div>\n",
       "<style scoped>\n",
       "    .dataframe tbody tr th:only-of-type {\n",
       "        vertical-align: middle;\n",
       "    }\n",
       "\n",
       "    .dataframe tbody tr th {\n",
       "        vertical-align: top;\n",
       "    }\n",
       "\n",
       "    .dataframe thead th {\n",
       "        text-align: right;\n",
       "    }\n",
       "</style>\n",
       "<table border=\"1\" class=\"dataframe\">\n",
       "  <thead>\n",
       "    <tr style=\"text-align: right;\">\n",
       "      <th></th>\n",
       "      <th>res_id</th>\n",
       "      <th>name</th>\n",
       "      <th>establishment</th>\n",
       "      <th>url</th>\n",
       "      <th>address</th>\n",
       "      <th>city</th>\n",
       "      <th>locality</th>\n",
       "      <th>latitude</th>\n",
       "      <th>longitude</th>\n",
       "      <th>country_id</th>\n",
       "      <th>...</th>\n",
       "      <th>average_cost_for_two</th>\n",
       "      <th>price_range</th>\n",
       "      <th>highlights</th>\n",
       "      <th>aggregate_rating</th>\n",
       "      <th>rating_text</th>\n",
       "      <th>votes</th>\n",
       "      <th>photo_count</th>\n",
       "      <th>delivery</th>\n",
       "      <th>latitude_in_radians</th>\n",
       "      <th>longitude_in_radians</th>\n",
       "    </tr>\n",
       "  </thead>\n",
       "  <tbody>\n",
       "    <tr>\n",
       "      <td>0</td>\n",
       "      <td>3400299</td>\n",
       "      <td>Bikanervala</td>\n",
       "      <td>Quick Bites</td>\n",
       "      <td>https://www.zomato.com/agra/bikanervala-khanda...</td>\n",
       "      <td>Kalyani Point, Near Tulsi Cinema, Bypass Road,...</td>\n",
       "      <td>Agra</td>\n",
       "      <td>Khandari</td>\n",
       "      <td>27.211450</td>\n",
       "      <td>78.002381</td>\n",
       "      <td>1</td>\n",
       "      <td>...</td>\n",
       "      <td>700</td>\n",
       "      <td>2</td>\n",
       "      <td>Lunch, Takeaway Available, Credit Card, Dinner...</td>\n",
       "      <td>4.4</td>\n",
       "      <td>Very Good</td>\n",
       "      <td>814</td>\n",
       "      <td>154</td>\n",
       "      <td>-1</td>\n",
       "      <td>0.474929</td>\n",
       "      <td>1.361398</td>\n",
       "    </tr>\n",
       "    <tr>\n",
       "      <td>1</td>\n",
       "      <td>3400005</td>\n",
       "      <td>Mama Chicken Mama Franky House</td>\n",
       "      <td>Quick Bites</td>\n",
       "      <td>https://www.zomato.com/agra/mama-chicken-mama-...</td>\n",
       "      <td>Main Market, Sadar Bazaar, Agra Cantt, Agra</td>\n",
       "      <td>Agra</td>\n",
       "      <td>Agra Cantt</td>\n",
       "      <td>27.160569</td>\n",
       "      <td>78.011583</td>\n",
       "      <td>1</td>\n",
       "      <td>...</td>\n",
       "      <td>600</td>\n",
       "      <td>2</td>\n",
       "      <td>Delivery, No Alcohol Available, Dinner, Takeaw...</td>\n",
       "      <td>4.4</td>\n",
       "      <td>Very Good</td>\n",
       "      <td>1203</td>\n",
       "      <td>161</td>\n",
       "      <td>-1</td>\n",
       "      <td>0.474041</td>\n",
       "      <td>1.361559</td>\n",
       "    </tr>\n",
       "    <tr>\n",
       "      <td>2</td>\n",
       "      <td>3401013</td>\n",
       "      <td>Bhagat Halwai</td>\n",
       "      <td>Quick Bites</td>\n",
       "      <td>https://www.zomato.com/agra/bhagat-halwai-2-sh...</td>\n",
       "      <td>62/1, Near Easy Day, West Shivaji Nagar, Goalp...</td>\n",
       "      <td>Agra</td>\n",
       "      <td>Shahganj</td>\n",
       "      <td>27.182938</td>\n",
       "      <td>77.979684</td>\n",
       "      <td>1</td>\n",
       "      <td>...</td>\n",
       "      <td>300</td>\n",
       "      <td>1</td>\n",
       "      <td>No Alcohol Available, Dinner, Takeaway Availab...</td>\n",
       "      <td>4.2</td>\n",
       "      <td>Very Good</td>\n",
       "      <td>801</td>\n",
       "      <td>107</td>\n",
       "      <td>1</td>\n",
       "      <td>0.474432</td>\n",
       "      <td>1.361002</td>\n",
       "    </tr>\n",
       "    <tr>\n",
       "      <td>3</td>\n",
       "      <td>3400290</td>\n",
       "      <td>Bhagat Halwai</td>\n",
       "      <td>Quick Bites</td>\n",
       "      <td>https://www.zomato.com/agra/bhagat-halwai-civi...</td>\n",
       "      <td>Near Anjana Cinema, Nehru Nagar, Civil Lines, ...</td>\n",
       "      <td>Agra</td>\n",
       "      <td>Civil Lines</td>\n",
       "      <td>27.205668</td>\n",
       "      <td>78.004799</td>\n",
       "      <td>1</td>\n",
       "      <td>...</td>\n",
       "      <td>300</td>\n",
       "      <td>1</td>\n",
       "      <td>Takeaway Available, Credit Card, Lunch, Delive...</td>\n",
       "      <td>4.3</td>\n",
       "      <td>Very Good</td>\n",
       "      <td>693</td>\n",
       "      <td>157</td>\n",
       "      <td>1</td>\n",
       "      <td>0.474828</td>\n",
       "      <td>1.361441</td>\n",
       "    </tr>\n",
       "    <tr>\n",
       "      <td>4</td>\n",
       "      <td>3401744</td>\n",
       "      <td>The Salt Cafe Kitchen &amp; Bar</td>\n",
       "      <td>Casual Dining</td>\n",
       "      <td>https://www.zomato.com/agra/the-salt-cafe-kitc...</td>\n",
       "      <td>1C,3rd Floor, Fatehabad Road, Tajganj, Agra</td>\n",
       "      <td>Agra</td>\n",
       "      <td>Tajganj</td>\n",
       "      <td>27.157709</td>\n",
       "      <td>78.052421</td>\n",
       "      <td>1</td>\n",
       "      <td>...</td>\n",
       "      <td>1000</td>\n",
       "      <td>3</td>\n",
       "      <td>Lunch, Serves Alcohol, Cash, Credit Card, Dinn...</td>\n",
       "      <td>4.9</td>\n",
       "      <td>Excellent</td>\n",
       "      <td>470</td>\n",
       "      <td>291</td>\n",
       "      <td>1</td>\n",
       "      <td>0.473991</td>\n",
       "      <td>1.362272</td>\n",
       "    </tr>\n",
       "  </tbody>\n",
       "</table>\n",
       "<p>5 rows × 23 columns</p>\n",
       "</div>"
      ],
      "text/plain": [
       "    res_id                            name  establishment  \\\n",
       "0  3400299                     Bikanervala    Quick Bites   \n",
       "1  3400005  Mama Chicken Mama Franky House    Quick Bites   \n",
       "2  3401013                   Bhagat Halwai    Quick Bites   \n",
       "3  3400290                   Bhagat Halwai    Quick Bites   \n",
       "4  3401744     The Salt Cafe Kitchen & Bar  Casual Dining   \n",
       "\n",
       "                                                 url  \\\n",
       "0  https://www.zomato.com/agra/bikanervala-khanda...   \n",
       "1  https://www.zomato.com/agra/mama-chicken-mama-...   \n",
       "2  https://www.zomato.com/agra/bhagat-halwai-2-sh...   \n",
       "3  https://www.zomato.com/agra/bhagat-halwai-civi...   \n",
       "4  https://www.zomato.com/agra/the-salt-cafe-kitc...   \n",
       "\n",
       "                                             address  city     locality  \\\n",
       "0  Kalyani Point, Near Tulsi Cinema, Bypass Road,...  Agra     Khandari   \n",
       "1        Main Market, Sadar Bazaar, Agra Cantt, Agra  Agra   Agra Cantt   \n",
       "2  62/1, Near Easy Day, West Shivaji Nagar, Goalp...  Agra     Shahganj   \n",
       "3  Near Anjana Cinema, Nehru Nagar, Civil Lines, ...  Agra  Civil Lines   \n",
       "4        1C,3rd Floor, Fatehabad Road, Tajganj, Agra  Agra      Tajganj   \n",
       "\n",
       "    latitude  longitude  country_id  ... average_cost_for_two price_range  \\\n",
       "0  27.211450  78.002381           1  ...                  700           2   \n",
       "1  27.160569  78.011583           1  ...                  600           2   \n",
       "2  27.182938  77.979684           1  ...                  300           1   \n",
       "3  27.205668  78.004799           1  ...                  300           1   \n",
       "4  27.157709  78.052421           1  ...                 1000           3   \n",
       "\n",
       "                                          highlights  aggregate_rating  \\\n",
       "0  Lunch, Takeaway Available, Credit Card, Dinner...               4.4   \n",
       "1  Delivery, No Alcohol Available, Dinner, Takeaw...               4.4   \n",
       "2  No Alcohol Available, Dinner, Takeaway Availab...               4.2   \n",
       "3  Takeaway Available, Credit Card, Lunch, Delive...               4.3   \n",
       "4  Lunch, Serves Alcohol, Cash, Credit Card, Dinn...               4.9   \n",
       "\n",
       "  rating_text votes  photo_count delivery  latitude_in_radians  \\\n",
       "0   Very Good   814          154       -1             0.474929   \n",
       "1   Very Good  1203          161       -1             0.474041   \n",
       "2   Very Good   801          107        1             0.474432   \n",
       "3   Very Good   693          157        1             0.474828   \n",
       "4   Excellent   470          291        1             0.473991   \n",
       "\n",
       "   longitude_in_radians  \n",
       "0              1.361398  \n",
       "1              1.361559  \n",
       "2              1.361002  \n",
       "3              1.361441  \n",
       "4              1.362272  \n",
       "\n",
       "[5 rows x 23 columns]"
      ]
     },
     "execution_count": 123,
     "metadata": {},
     "output_type": "execute_result"
    }
   ],
   "source": [
    "dataset.head()"
   ]
  },
  {
   "cell_type": "code",
   "execution_count": 124,
   "metadata": {},
   "outputs": [],
   "source": [
    "data_out_of_bounds_longitude = dataset.loc[(dataset['longitude_in_radians'] < radians_1) |\n",
    "                                 (dataset['longitude_in_radians'] > radians_2), ]"
   ]
  },
  {
   "cell_type": "code",
   "execution_count": 125,
   "metadata": {},
   "outputs": [
    {
     "data": {
      "text/html": [
       "<div>\n",
       "<style scoped>\n",
       "    .dataframe tbody tr th:only-of-type {\n",
       "        vertical-align: middle;\n",
       "    }\n",
       "\n",
       "    .dataframe tbody tr th {\n",
       "        vertical-align: top;\n",
       "    }\n",
       "\n",
       "    .dataframe thead th {\n",
       "        text-align: right;\n",
       "    }\n",
       "</style>\n",
       "<table border=\"1\" class=\"dataframe\">\n",
       "  <thead>\n",
       "    <tr style=\"text-align: right;\">\n",
       "      <th></th>\n",
       "      <th>res_id</th>\n",
       "      <th>name</th>\n",
       "      <th>establishment</th>\n",
       "      <th>url</th>\n",
       "      <th>address</th>\n",
       "      <th>city</th>\n",
       "      <th>locality</th>\n",
       "      <th>latitude</th>\n",
       "      <th>longitude</th>\n",
       "      <th>country_id</th>\n",
       "      <th>...</th>\n",
       "      <th>average_cost_for_two</th>\n",
       "      <th>price_range</th>\n",
       "      <th>highlights</th>\n",
       "      <th>aggregate_rating</th>\n",
       "      <th>rating_text</th>\n",
       "      <th>votes</th>\n",
       "      <th>photo_count</th>\n",
       "      <th>delivery</th>\n",
       "      <th>latitude_in_radians</th>\n",
       "      <th>longitude_in_radians</th>\n",
       "    </tr>\n",
       "  </thead>\n",
       "  <tbody>\n",
       "    <tr>\n",
       "      <td>0</td>\n",
       "      <td>3400299</td>\n",
       "      <td>Bikanervala</td>\n",
       "      <td>Quick Bites</td>\n",
       "      <td>https://www.zomato.com/agra/bikanervala-khanda...</td>\n",
       "      <td>Kalyani Point, Near Tulsi Cinema, Bypass Road,...</td>\n",
       "      <td>Agra</td>\n",
       "      <td>Khandari</td>\n",
       "      <td>27.211450</td>\n",
       "      <td>78.002381</td>\n",
       "      <td>1</td>\n",
       "      <td>...</td>\n",
       "      <td>700</td>\n",
       "      <td>2</td>\n",
       "      <td>Lunch, Takeaway Available, Credit Card, Dinner...</td>\n",
       "      <td>4.4</td>\n",
       "      <td>Very Good</td>\n",
       "      <td>814</td>\n",
       "      <td>154</td>\n",
       "      <td>-1</td>\n",
       "      <td>0.474929</td>\n",
       "      <td>1.361398</td>\n",
       "    </tr>\n",
       "    <tr>\n",
       "      <td>1</td>\n",
       "      <td>3400005</td>\n",
       "      <td>Mama Chicken Mama Franky House</td>\n",
       "      <td>Quick Bites</td>\n",
       "      <td>https://www.zomato.com/agra/mama-chicken-mama-...</td>\n",
       "      <td>Main Market, Sadar Bazaar, Agra Cantt, Agra</td>\n",
       "      <td>Agra</td>\n",
       "      <td>Agra Cantt</td>\n",
       "      <td>27.160569</td>\n",
       "      <td>78.011583</td>\n",
       "      <td>1</td>\n",
       "      <td>...</td>\n",
       "      <td>600</td>\n",
       "      <td>2</td>\n",
       "      <td>Delivery, No Alcohol Available, Dinner, Takeaw...</td>\n",
       "      <td>4.4</td>\n",
       "      <td>Very Good</td>\n",
       "      <td>1203</td>\n",
       "      <td>161</td>\n",
       "      <td>-1</td>\n",
       "      <td>0.474041</td>\n",
       "      <td>1.361559</td>\n",
       "    </tr>\n",
       "    <tr>\n",
       "      <td>2</td>\n",
       "      <td>3401013</td>\n",
       "      <td>Bhagat Halwai</td>\n",
       "      <td>Quick Bites</td>\n",
       "      <td>https://www.zomato.com/agra/bhagat-halwai-2-sh...</td>\n",
       "      <td>62/1, Near Easy Day, West Shivaji Nagar, Goalp...</td>\n",
       "      <td>Agra</td>\n",
       "      <td>Shahganj</td>\n",
       "      <td>27.182938</td>\n",
       "      <td>77.979684</td>\n",
       "      <td>1</td>\n",
       "      <td>...</td>\n",
       "      <td>300</td>\n",
       "      <td>1</td>\n",
       "      <td>No Alcohol Available, Dinner, Takeaway Availab...</td>\n",
       "      <td>4.2</td>\n",
       "      <td>Very Good</td>\n",
       "      <td>801</td>\n",
       "      <td>107</td>\n",
       "      <td>1</td>\n",
       "      <td>0.474432</td>\n",
       "      <td>1.361002</td>\n",
       "    </tr>\n",
       "    <tr>\n",
       "      <td>3</td>\n",
       "      <td>3400290</td>\n",
       "      <td>Bhagat Halwai</td>\n",
       "      <td>Quick Bites</td>\n",
       "      <td>https://www.zomato.com/agra/bhagat-halwai-civi...</td>\n",
       "      <td>Near Anjana Cinema, Nehru Nagar, Civil Lines, ...</td>\n",
       "      <td>Agra</td>\n",
       "      <td>Civil Lines</td>\n",
       "      <td>27.205668</td>\n",
       "      <td>78.004799</td>\n",
       "      <td>1</td>\n",
       "      <td>...</td>\n",
       "      <td>300</td>\n",
       "      <td>1</td>\n",
       "      <td>Takeaway Available, Credit Card, Lunch, Delive...</td>\n",
       "      <td>4.3</td>\n",
       "      <td>Very Good</td>\n",
       "      <td>693</td>\n",
       "      <td>157</td>\n",
       "      <td>1</td>\n",
       "      <td>0.474828</td>\n",
       "      <td>1.361441</td>\n",
       "    </tr>\n",
       "    <tr>\n",
       "      <td>4</td>\n",
       "      <td>3401744</td>\n",
       "      <td>The Salt Cafe Kitchen &amp; Bar</td>\n",
       "      <td>Casual Dining</td>\n",
       "      <td>https://www.zomato.com/agra/the-salt-cafe-kitc...</td>\n",
       "      <td>1C,3rd Floor, Fatehabad Road, Tajganj, Agra</td>\n",
       "      <td>Agra</td>\n",
       "      <td>Tajganj</td>\n",
       "      <td>27.157709</td>\n",
       "      <td>78.052421</td>\n",
       "      <td>1</td>\n",
       "      <td>...</td>\n",
       "      <td>1000</td>\n",
       "      <td>3</td>\n",
       "      <td>Lunch, Serves Alcohol, Cash, Credit Card, Dinn...</td>\n",
       "      <td>4.9</td>\n",
       "      <td>Excellent</td>\n",
       "      <td>470</td>\n",
       "      <td>291</td>\n",
       "      <td>1</td>\n",
       "      <td>0.473991</td>\n",
       "      <td>1.362272</td>\n",
       "    </tr>\n",
       "  </tbody>\n",
       "</table>\n",
       "<p>5 rows × 23 columns</p>\n",
       "</div>"
      ],
      "text/plain": [
       "    res_id                            name  establishment  \\\n",
       "0  3400299                     Bikanervala    Quick Bites   \n",
       "1  3400005  Mama Chicken Mama Franky House    Quick Bites   \n",
       "2  3401013                   Bhagat Halwai    Quick Bites   \n",
       "3  3400290                   Bhagat Halwai    Quick Bites   \n",
       "4  3401744     The Salt Cafe Kitchen & Bar  Casual Dining   \n",
       "\n",
       "                                                 url  \\\n",
       "0  https://www.zomato.com/agra/bikanervala-khanda...   \n",
       "1  https://www.zomato.com/agra/mama-chicken-mama-...   \n",
       "2  https://www.zomato.com/agra/bhagat-halwai-2-sh...   \n",
       "3  https://www.zomato.com/agra/bhagat-halwai-civi...   \n",
       "4  https://www.zomato.com/agra/the-salt-cafe-kitc...   \n",
       "\n",
       "                                             address  city     locality  \\\n",
       "0  Kalyani Point, Near Tulsi Cinema, Bypass Road,...  Agra     Khandari   \n",
       "1        Main Market, Sadar Bazaar, Agra Cantt, Agra  Agra   Agra Cantt   \n",
       "2  62/1, Near Easy Day, West Shivaji Nagar, Goalp...  Agra     Shahganj   \n",
       "3  Near Anjana Cinema, Nehru Nagar, Civil Lines, ...  Agra  Civil Lines   \n",
       "4        1C,3rd Floor, Fatehabad Road, Tajganj, Agra  Agra      Tajganj   \n",
       "\n",
       "    latitude  longitude  country_id  ... average_cost_for_two price_range  \\\n",
       "0  27.211450  78.002381           1  ...                  700           2   \n",
       "1  27.160569  78.011583           1  ...                  600           2   \n",
       "2  27.182938  77.979684           1  ...                  300           1   \n",
       "3  27.205668  78.004799           1  ...                  300           1   \n",
       "4  27.157709  78.052421           1  ...                 1000           3   \n",
       "\n",
       "                                          highlights  aggregate_rating  \\\n",
       "0  Lunch, Takeaway Available, Credit Card, Dinner...               4.4   \n",
       "1  Delivery, No Alcohol Available, Dinner, Takeaw...               4.4   \n",
       "2  No Alcohol Available, Dinner, Takeaway Availab...               4.2   \n",
       "3  Takeaway Available, Credit Card, Lunch, Delive...               4.3   \n",
       "4  Lunch, Serves Alcohol, Cash, Credit Card, Dinn...               4.9   \n",
       "\n",
       "  rating_text votes  photo_count delivery  latitude_in_radians  \\\n",
       "0   Very Good   814          154       -1             0.474929   \n",
       "1   Very Good  1203          161       -1             0.474041   \n",
       "2   Very Good   801          107        1             0.474432   \n",
       "3   Very Good   693          157        1             0.474828   \n",
       "4   Excellent   470          291        1             0.473991   \n",
       "\n",
       "   longitude_in_radians  \n",
       "0              1.361398  \n",
       "1              1.361559  \n",
       "2              1.361002  \n",
       "3              1.361441  \n",
       "4              1.362272  \n",
       "\n",
       "[5 rows x 23 columns]"
      ]
     },
     "execution_count": 125,
     "metadata": {},
     "output_type": "execute_result"
    }
   ],
   "source": [
    "data_out_of_bounds_longitude.head()"
   ]
  },
  {
   "cell_type": "code",
   "execution_count": 73,
   "metadata": {},
   "outputs": [],
   "source": [
    "# dataset = dataset[~dataset.isin(data_out_of_bounds_longitude).all(1)]"
   ]
  },
  {
   "cell_type": "code",
   "execution_count": 126,
   "metadata": {},
   "outputs": [
    {
     "data": {
      "text/plain": [
       "(148968, 23)"
      ]
     },
     "execution_count": 126,
     "metadata": {},
     "output_type": "execute_result"
    }
   ],
   "source": [
    "dataset.shape"
   ]
  },
  {
   "cell_type": "markdown",
   "metadata": {},
   "source": [
    "- We need to replace all these values with NaN's."
   ]
  },
  {
   "cell_type": "markdown",
   "metadata": {},
   "source": [
    "- Check if the values are replace by NaN's"
   ]
  },
  {
   "cell_type": "markdown",
   "metadata": {},
   "source": [
    "- From variable 'latitude' and 'longitude', plot the location of restaurants."
   ]
  },
  {
   "cell_type": "code",
   "execution_count": null,
   "metadata": {},
   "outputs": [],
   "source": []
  },
  {
   "cell_type": "markdown",
   "metadata": {},
   "source": [
    "**6. Variable 'cuisines'**"
   ]
  },
  {
   "cell_type": "code",
   "execution_count": null,
   "metadata": {},
   "outputs": [],
   "source": []
  },
  {
   "cell_type": "markdown",
   "metadata": {},
   "source": [
    "- To find the unique cusines we write a small user defined function.\n",
    "\n"
   ]
  },
  {
   "cell_type": "code",
   "execution_count": 127,
   "metadata": {},
   "outputs": [],
   "source": [
    "def unique(val):\n",
    "    v = []\n",
    "    if(val['cuisines'].value_counts() == 1).any():\n",
    "        v.append(dataset['cuisines'])\n",
    "    return v"
   ]
  },
  {
   "cell_type": "code",
   "execution_count": 128,
   "metadata": {},
   "outputs": [
    {
     "data": {
      "text/plain": [
       "[0         North Indian, South Indian, Mithai, Street Foo...\n",
       " 1         North Indian, Mughlai, Rolls, Chinese, Fast Fo...\n",
       " 2                                         Fast Food, Mithai\n",
       " 3                 Desserts, Bakery, Fast Food, South Indian\n",
       " 4                        North Indian, Continental, Italian\n",
       "                                 ...                        \n",
       " 211939                                         North Indian\n",
       " 211940                                            Fast Food\n",
       " 211941                      Gujarati, North Indian, Chinese\n",
       " 211942                           Fast Food, Sandwich, Salad\n",
       " 211943                           Cafe, Healthy Food, Coffee\n",
       " Name: cuisines, Length: 148968, dtype: category\n",
       " Categories (9382, object): [Afghan, Afghan, American, Afghan, Arabian, BBQ, Beverages, Biryani, Maha..., Afghan, Arabian, BBQ, Beverages, Burger, ..., Wraps, Sandwich, Pizza, Bakery, Wraps, Sandwich, Rolls, Fast Food, Burger, Wraps, Sandwich, Rolls, Pizza, Burger, Wraps, Sandwich, Salad, Pizza, Burger, Beverages]]"
      ]
     },
     "execution_count": 128,
     "metadata": {},
     "output_type": "execute_result"
    }
   ],
   "source": [
    "unique(dataset)"
   ]
  },
  {
   "cell_type": "code",
   "execution_count": null,
   "metadata": {},
   "outputs": [],
   "source": []
  },
  {
   "cell_type": "markdown",
   "metadata": {},
   "source": [
    "- find out the frequency of each cuisine"
   ]
  },
  {
   "cell_type": "code",
   "execution_count": 129,
   "metadata": {},
   "outputs": [
    {
     "data": {
      "text/plain": [
       "North Indian                                                 14485\n",
       "Fast Food                                                     5718\n",
       "North Indian, Chinese                                         5159\n",
       "Cafe                                                          5119\n",
       "Pizza, Fast Food                                              3219\n",
       "                                                             ...  \n",
       "Cafe, Ice Cream, Beverages                                       0\n",
       "North Indian, Biryani, Chinese, Seafood                          0\n",
       "Raw Meats, Naga                                                  0\n",
       "Cafe, Healthy Food, Sandwich, Burger, Desserts, Beverages        0\n",
       "Goan, Chinese, Italian, North Indian, Continental                0\n",
       "Name: cuisines, Length: 9382, dtype: int64"
      ]
     },
     "execution_count": 129,
     "metadata": {},
     "output_type": "execute_result"
    }
   ],
   "source": [
    "dataset.cuisines.value_counts()"
   ]
  },
  {
   "cell_type": "markdown",
   "metadata": {},
   "source": [
    "**8. Variable 'average_cost_for_two'**"
   ]
  },
  {
   "cell_type": "code",
   "execution_count": 130,
   "metadata": {},
   "outputs": [
    {
     "data": {
      "text/plain": [
       "500     15945\n",
       "400     15899\n",
       "300     15783\n",
       "200     14428\n",
       "600      9585\n",
       "        ...  \n",
       "380         1\n",
       "620         1\n",
       "1230        1\n",
       "2           1\n",
       "312         1\n",
       "Name: average_cost_for_two, Length: 128, dtype: int64"
      ]
     },
     "execution_count": 130,
     "metadata": {},
     "output_type": "execute_result"
    }
   ],
   "source": [
    "dataset.average_cost_for_two.value_counts()"
   ]
  },
  {
   "cell_type": "code",
   "execution_count": 131,
   "metadata": {},
   "outputs": [],
   "source": [
    "# Average Cost of two has a maximum value of Rs 300 , i.e most of\n",
    "# the users spend 300 rupees when they go to a restaurant"
   ]
  },
  {
   "cell_type": "markdown",
   "metadata": {},
   "source": [
    "**9. Variable 'price_range'**"
   ]
  },
  {
   "cell_type": "code",
   "execution_count": 132,
   "metadata": {},
   "outputs": [
    {
     "data": {
      "text/plain": [
       "1    61883\n",
       "2    54600\n",
       "3    24040\n",
       "4     8445\n",
       "Name: price_range, dtype: int64"
      ]
     },
     "execution_count": 132,
     "metadata": {},
     "output_type": "execute_result"
    }
   ],
   "source": [
    "dataset.price_range.value_counts()"
   ]
  },
  {
   "cell_type": "markdown",
   "metadata": {},
   "source": [
    "- visualize a exploded pie chart."
   ]
  },
  {
   "cell_type": "code",
   "execution_count": 133,
   "metadata": {},
   "outputs": [
    {
     "data": {
      "image/png": "[encoded data removed]",
      "text/plain": [
       "<Figure size 432x288 with 1 Axes>"
      ]
     },
     "metadata": {},
     "output_type": "display_data"
    }
   ],
   "source": [
    "import matplotlib.pyplot as plt\n",
    "\n",
    "my_data = [85831,77762,35767,12584]\n",
    "my_labels = 'Price_Range_For_1','Price_Range_For_1','Price_Range_For_1','Price_Range_For_4'\n",
    "plt.pie(my_data,labels=my_labels,autopct='%1.5f%%')\n",
    "plt.title('Price Range For Zomato')\n",
    "plt.axis('equal')\n",
    "plt.show()"
   ]
  },
  {
   "cell_type": "markdown",
   "metadata": {},
   "source": [
    "**10. Variable 'highlights'**"
   ]
  },
  {
   "cell_type": "code",
   "execution_count": 134,
   "metadata": {},
   "outputs": [
    {
     "data": {
      "text/plain": [
       "Dinner, Takeaway Available, Lunch, Cash, Indoor Seating                                                                                                                                                                       2329\n",
       "Dinner, Delivery, Lunch, Cash, Takeaway Available, Indoor Seating                                                                                                                                                             1777\n",
       "Cash                                                                                                                                                                                                                           883\n",
       "Lunch, Cash, Takeaway Available, No Alcohol Available, Dinner, Delivery, Indoor Seating                                                                                                                                        839\n",
       "Dinner, Cash, Takeaway Available, Debit Card, Lunch, Delivery, Credit Card, Indoor Seating, Air Conditioned                                                                                                                    575\n",
       "                                                                                                                                                                                                                              ... \n",
       "Credit Card, Debit Card, Dinner, Cash, Wifi, Table booking recommended, Smoking Area, LGBTQIA Friendly, Air Conditioned, Nightlife, Indoor Seating, Fullbar                                                                      0\n",
       "Credit Card, Debit Card, Dinner, Cash, Wifi, Poolside, 4/5 Star, Halal, Beer, Luxury Dining, Table reservation required, Wine, Buffet, Indoor Seating, Wheelchair Accessible, Outdoor Seating, Axis Bank - Dining Delights       0\n",
       "Lunch, Cash, Takeaway Available, Debit Card, No Seating Available, Dinner, Delivery, Credit Card                                                                                                                                 0\n",
       "Credit Card, Debit Card, Dinner, Cash, Takeaway Available, Lunch, Wifi, Indoor Seating, Buffet, Air Conditioned, Smoking Area                                                                                                    0\n",
       "Wifi, Desserts and Bakes, Outdoor Seating                                                                                                                                                                                        0\n",
       "Name: highlights, Length: 31454, dtype: int64"
      ]
     },
     "execution_count": 134,
     "metadata": {},
     "output_type": "execute_result"
    }
   ],
   "source": [
    "dataset.highlights.value_counts()"
   ]
  },
  {
   "cell_type": "markdown",
   "metadata": {},
   "source": [
    "\n",
    "\n",
    "- write a small function to know the number of times a facility has appeared in the 'Highlights'."
   ]
  },
  {
   "cell_type": "code",
   "execution_count": 135,
   "metadata": {},
   "outputs": [
    {
     "name": "stdout",
     "output_type": "stream",
     "text": [
      "Dinner, Takeaway Available, Lunch, Cash, Indoor Seating                                                                                                                                                                       2329\n",
      "Dinner, Delivery, Lunch, Cash, Takeaway Available, Indoor Seating                                                                                                                                                             1777\n",
      "Cash                                                                                                                                                                                                                           883\n",
      "Lunch, Cash, Takeaway Available, No Alcohol Available, Dinner, Delivery, Indoor Seating                                                                                                                                        839\n",
      "Dinner, Cash, Takeaway Available, Debit Card, Lunch, Delivery, Credit Card, Indoor Seating, Air Conditioned                                                                                                                    575\n",
      "                                                                                                                                                                                                                              ... \n",
      "Credit Card, Debit Card, Dinner, Cash, Wifi, Table booking recommended, Smoking Area, LGBTQIA Friendly, Air Conditioned, Nightlife, Indoor Seating, Fullbar                                                                      0\n",
      "Credit Card, Debit Card, Dinner, Cash, Wifi, Poolside, 4/5 Star, Halal, Beer, Luxury Dining, Table reservation required, Wine, Buffet, Indoor Seating, Wheelchair Accessible, Outdoor Seating, Axis Bank - Dining Delights       0\n",
      "Lunch, Cash, Takeaway Available, Debit Card, No Seating Available, Dinner, Delivery, Credit Card                                                                                                                                 0\n",
      "Credit Card, Debit Card, Dinner, Cash, Takeaway Available, Lunch, Wifi, Indoor Seating, Buffet, Air Conditioned, Smoking Area                                                                                                    0\n",
      "Wifi, Desserts and Bakes, Outdoor Seating                                                                                                                                                                                        0\n",
      "Name: highlights, Length: 31454, dtype: int64\n"
     ]
    }
   ],
   "source": [
    "def count(facility):\n",
    "    return facility.highlights.value_counts()\n",
    "\n",
    "print(count(dataset))"
   ]
  },
  {
   "cell_type": "markdown",
   "metadata": {},
   "source": [
    "- Now we find out which facility occurs most number of in the data."
   ]
  },
  {
   "cell_type": "code",
   "execution_count": 136,
   "metadata": {},
   "outputs": [],
   "source": [
    "# ( Dinner, Takeaway Available, Lunch, Cash, Indoor Seating ) facility  occurs the most with the value of 3352"
   ]
  },
  {
   "cell_type": "markdown",
   "metadata": {},
   "source": [
    "**11. Variable 'aggregate_rating'** \n",
    "\n"
   ]
  },
  {
   "cell_type": "code",
   "execution_count": 137,
   "metadata": {},
   "outputs": [
    {
     "data": {
      "text/plain": [
       "0.0    16196\n",
       "4.0    13262\n",
       "3.9    11450\n",
       "4.1    11394\n",
       "3.8    10370\n",
       "4.2     9682\n",
       "3.7     8637\n",
       "3.2     7996\n",
       "4.3     7863\n",
       "3.6     6799\n",
       "3.3     6270\n",
       "3.5     5848\n",
       "4.4     5517\n",
       "3.4     5458\n",
       "4.5     4016\n",
       "4.6     2776\n",
       "3.1     2303\n",
       "3.0     2253\n",
       "2.9     2056\n",
       "4.7     1701\n",
       "2.8     1701\n",
       "2.7     1228\n",
       "4.8     1097\n",
       "4.9      991\n",
       "2.6      722\n",
       "2.5      472\n",
       "2.4      443\n",
       "2.3      299\n",
       "2.2      102\n",
       "2.1       34\n",
       "2.0       18\n",
       "1.9       11\n",
       "1.8        3\n",
       "Name: aggregate_rating, dtype: int64"
      ]
     },
     "execution_count": 137,
     "metadata": {},
     "output_type": "execute_result"
    }
   ],
   "source": [
    "dataset.aggregate_rating.value_counts()"
   ]
  },
  {
   "cell_type": "markdown",
   "metadata": {},
   "source": [
    "**12. Variable 'rating_text'**\n",
    "\n"
   ]
  },
  {
   "cell_type": "code",
   "execution_count": 138,
   "metadata": {},
   "outputs": [
    {
     "data": {
      "text/plain": [
       "Very Good        47511\n",
       "Good             43020\n",
       "Average          30442\n",
       "Not rated        16196\n",
       "Excellent        10479\n",
       "Poor               907\n",
       "Çok iyi             47\n",
       "Excelente           39\n",
       "Sangat Baik         38\n",
       "Muito Bom           31\n",
       "Bardzo dobrze       22\n",
       "Muy Bueno           22\n",
       "Velmi dobré         20\n",
       "Harika              19\n",
       "Bom                 19\n",
       "Baik                17\n",
       "Skvělé              17\n",
       "İyi                 15\n",
       "Veľmi dobré         14\n",
       "Terbaik             13\n",
       "Skvělá volba        12\n",
       "Ottimo              10\n",
       "Dobré                9\n",
       "Wybitnie             6\n",
       "Buono                5\n",
       "Vynikajúce           5\n",
       "Bueno                4\n",
       "Průměr               4\n",
       "Muito bom            3\n",
       "Eccellente           3\n",
       "Ortalama             3\n",
       "Dobrze               3\n",
       "Priemer              3\n",
       "Scarso               3\n",
       "Media                2\n",
       "Média                2\n",
       "Promedio             1\n",
       "Biasa                1\n",
       "Średnio              1\n",
       "Name: rating_text, dtype: int64"
      ]
     },
     "execution_count": 138,
     "metadata": {},
     "output_type": "execute_result"
    }
   ],
   "source": [
    "dataset.rating_text.value_counts()"
   ]
  },
  {
   "cell_type": "markdown",
   "metadata": {},
   "source": [
    "Creating a New feature for better understanding of ratings\n"
   ]
  },
  {
   "cell_type": "code",
   "execution_count": null,
   "metadata": {},
   "outputs": [],
   "source": []
  },
  {
   "cell_type": "markdown",
   "metadata": {},
   "source": [
    "**13. Variable 'votes'**"
   ]
  },
  {
   "cell_type": "code",
   "execution_count": 139,
   "metadata": {},
   "outputs": [
    {
     "data": {
      "text/plain": [
       "0       7469\n",
       "1       4726\n",
       "2       3494\n",
       "3       3008\n",
       "4       3003\n",
       "        ... \n",
       "3184       1\n",
       "1870       1\n",
       "1612       1\n",
       "1739       1\n",
       "1429       1\n",
       "Name: votes, Length: 2261, dtype: int64"
      ]
     },
     "execution_count": 139,
     "metadata": {},
     "output_type": "execute_result"
    }
   ],
   "source": [
    "dataset.votes.value_counts()"
   ]
  },
  {
   "cell_type": "markdown",
   "metadata": {},
   "source": [
    "**14. Variable 'photo_count'**"
   ]
  },
  {
   "cell_type": "code",
   "execution_count": 140,
   "metadata": {},
   "outputs": [
    {
     "data": {
      "text/plain": [
       "0       17789\n",
       "1        7496\n",
       "2        6166\n",
       "3        5419\n",
       "4        4632\n",
       "        ...  \n",
       "1361        1\n",
       "2512        1\n",
       "1616        1\n",
       "1488        1\n",
       "2367        1\n",
       "Name: photo_count, Length: 2260, dtype: int64"
      ]
     },
     "execution_count": 140,
     "metadata": {},
     "output_type": "execute_result"
    }
   ],
   "source": [
    "dataset.photo_count.value_counts()"
   ]
  },
  {
   "cell_type": "markdown",
   "metadata": {},
   "source": [
    "**15. Variable 'delivery'**"
   ]
  },
  {
   "cell_type": "code",
   "execution_count": 141,
   "metadata": {},
   "outputs": [
    {
     "data": {
      "text/plain": [
       "-1    90596\n",
       " 1    57773\n",
       " 0      599\n",
       "Name: delivery, dtype: int64"
      ]
     },
     "execution_count": 141,
     "metadata": {},
     "output_type": "execute_result"
    }
   ],
   "source": [
    "dataset.delivery.value_counts()"
   ]
  },
  {
   "cell_type": "markdown",
   "metadata": {},
   "source": [
    "<a id ='missing'></a>\n",
    "## 6. Check for missing values"
   ]
  },
  {
   "cell_type": "code",
   "execution_count": 142,
   "metadata": {},
   "outputs": [
    {
     "data": {
      "text/plain": [
       "res_id                     0\n",
       "name                       0\n",
       "establishment           4827\n",
       "url                        0\n",
       "address                  134\n",
       "city                       0\n",
       "locality                   0\n",
       "latitude                   0\n",
       "longitude                  0\n",
       "country_id                 0\n",
       "locality_verbose           0\n",
       "cuisines                1391\n",
       "timings                 3874\n",
       "average_cost_for_two       0\n",
       "price_range                0\n",
       "highlights              2069\n",
       "aggregate_rating           0\n",
       "rating_text                0\n",
       "votes                      0\n",
       "photo_count                0\n",
       "delivery                   0\n",
       "latitude_in_radians        0\n",
       "longitude_in_radians       0\n",
       "dtype: int64"
      ]
     },
     "execution_count": 142,
     "metadata": {},
     "output_type": "execute_result"
    }
   ],
   "source": [
    "dataset.isnull().sum()"
   ]
  },
  {
   "cell_type": "markdown",
   "metadata": {},
   "source": [
    "**6. Study summary statistics**"
   ]
  },
  {
   "cell_type": "markdown",
   "metadata": {},
   "source": [
    "Let us check the summary statistics for numerical variables."
   ]
  },
  {
   "cell_type": "code",
   "execution_count": 143,
   "metadata": {},
   "outputs": [
    {
     "data": {
      "text/html": [
       "<div>\n",
       "<style scoped>\n",
       "    .dataframe tbody tr th:only-of-type {\n",
       "        vertical-align: middle;\n",
       "    }\n",
       "\n",
       "    .dataframe tbody tr th {\n",
       "        vertical-align: top;\n",
       "    }\n",
       "\n",
       "    .dataframe thead th {\n",
       "        text-align: right;\n",
       "    }\n",
       "</style>\n",
       "<table border=\"1\" class=\"dataframe\">\n",
       "  <thead>\n",
       "    <tr style=\"text-align: right;\">\n",
       "      <th></th>\n",
       "      <th>latitude</th>\n",
       "      <th>longitude</th>\n",
       "      <th>country_id</th>\n",
       "      <th>average_cost_for_two</th>\n",
       "      <th>aggregate_rating</th>\n",
       "      <th>votes</th>\n",
       "      <th>photo_count</th>\n",
       "      <th>latitude_in_radians</th>\n",
       "      <th>longitude_in_radians</th>\n",
       "    </tr>\n",
       "  </thead>\n",
       "  <tbody>\n",
       "    <tr>\n",
       "      <td>count</td>\n",
       "      <td>148968.000000</td>\n",
       "      <td>148968.000000</td>\n",
       "      <td>148968.0</td>\n",
       "      <td>148968.000000</td>\n",
       "      <td>148968.000000</td>\n",
       "      <td>148968.000000</td>\n",
       "      <td>148968.000000</td>\n",
       "      <td>148968.000000</td>\n",
       "      <td>148968.000000</td>\n",
       "    </tr>\n",
       "    <tr>\n",
       "      <td>mean</td>\n",
       "      <td>25.208164</td>\n",
       "      <td>78.061003</td>\n",
       "      <td>1.0</td>\n",
       "      <td>585.491401</td>\n",
       "      <td>3.399215</td>\n",
       "      <td>345.280503</td>\n",
       "      <td>261.440531</td>\n",
       "      <td>0.439965</td>\n",
       "      <td>1.362422</td>\n",
       "    </tr>\n",
       "    <tr>\n",
       "      <td>std</td>\n",
       "      <td>4.335694</td>\n",
       "      <td>5.465505</td>\n",
       "      <td>0.0</td>\n",
       "      <td>624.629817</td>\n",
       "      <td>1.274583</td>\n",
       "      <td>721.620148</td>\n",
       "      <td>939.724721</td>\n",
       "      <td>0.075672</td>\n",
       "      <td>0.095391</td>\n",
       "    </tr>\n",
       "    <tr>\n",
       "      <td>min</td>\n",
       "      <td>0.000000</td>\n",
       "      <td>0.000000</td>\n",
       "      <td>1.0</td>\n",
       "      <td>0.000000</td>\n",
       "      <td>0.000000</td>\n",
       "      <td>0.000000</td>\n",
       "      <td>0.000000</td>\n",
       "      <td>0.000000</td>\n",
       "      <td>0.000000</td>\n",
       "    </tr>\n",
       "    <tr>\n",
       "      <td>25%</td>\n",
       "      <td>22.299166</td>\n",
       "      <td>74.636225</td>\n",
       "      <td>1.0</td>\n",
       "      <td>250.000000</td>\n",
       "      <td>3.300000</td>\n",
       "      <td>16.000000</td>\n",
       "      <td>4.000000</td>\n",
       "      <td>0.389194</td>\n",
       "      <td>1.302648</td>\n",
       "    </tr>\n",
       "    <tr>\n",
       "      <td>50%</td>\n",
       "      <td>25.610326</td>\n",
       "      <td>77.189519</td>\n",
       "      <td>1.0</td>\n",
       "      <td>400.000000</td>\n",
       "      <td>3.800000</td>\n",
       "      <td>103.000000</td>\n",
       "      <td>18.000000</td>\n",
       "      <td>0.446985</td>\n",
       "      <td>1.347211</td>\n",
       "    </tr>\n",
       "    <tr>\n",
       "      <td>75%</td>\n",
       "      <td>28.568881</td>\n",
       "      <td>80.324780</td>\n",
       "      <td>1.0</td>\n",
       "      <td>700.000000</td>\n",
       "      <td>4.100000</td>\n",
       "      <td>354.000000</td>\n",
       "      <td>112.000000</td>\n",
       "      <td>0.498621</td>\n",
       "      <td>1.401932</td>\n",
       "    </tr>\n",
       "    <tr>\n",
       "      <td>max</td>\n",
       "      <td>34.214702</td>\n",
       "      <td>91.832769</td>\n",
       "      <td>1.0</td>\n",
       "      <td>30000.000000</td>\n",
       "      <td>4.900000</td>\n",
       "      <td>14751.000000</td>\n",
       "      <td>17702.000000</td>\n",
       "      <td>0.597159</td>\n",
       "      <td>1.602784</td>\n",
       "    </tr>\n",
       "  </tbody>\n",
       "</table>\n",
       "</div>"
      ],
      "text/plain": [
       "            latitude      longitude  country_id  average_cost_for_two  \\\n",
       "count  148968.000000  148968.000000    148968.0         148968.000000   \n",
       "mean       25.208164      78.061003         1.0            585.491401   \n",
       "std         4.335694       5.465505         0.0            624.629817   \n",
       "min         0.000000       0.000000         1.0              0.000000   \n",
       "25%        22.299166      74.636225         1.0            250.000000   \n",
       "50%        25.610326      77.189519         1.0            400.000000   \n",
       "75%        28.568881      80.324780         1.0            700.000000   \n",
       "max        34.214702      91.832769         1.0          30000.000000   \n",
       "\n",
       "       aggregate_rating          votes    photo_count  latitude_in_radians  \\\n",
       "count     148968.000000  148968.000000  148968.000000        148968.000000   \n",
       "mean           3.399215     345.280503     261.440531             0.439965   \n",
       "std            1.274583     721.620148     939.724721             0.075672   \n",
       "min            0.000000       0.000000       0.000000             0.000000   \n",
       "25%            3.300000      16.000000       4.000000             0.389194   \n",
       "50%            3.800000     103.000000      18.000000             0.446985   \n",
       "75%            4.100000     354.000000     112.000000             0.498621   \n",
       "max            4.900000   14751.000000   17702.000000             0.597159   \n",
       "\n",
       "       longitude_in_radians  \n",
       "count         148968.000000  \n",
       "mean               1.362422  \n",
       "std                0.095391  \n",
       "min                0.000000  \n",
       "25%                1.302648  \n",
       "50%                1.347211  \n",
       "75%                1.401932  \n",
       "max                1.602784  "
      ]
     },
     "execution_count": 143,
     "metadata": {},
     "output_type": "execute_result"
    }
   ],
   "source": [
    "dataset.describe()"
   ]
  },
  {
   "cell_type": "markdown",
   "metadata": {},
   "source": [
    "Let us check the summary statistics for categorical variables."
   ]
  },
  {
   "cell_type": "code",
   "execution_count": 144,
   "metadata": {},
   "outputs": [
    {
     "data": {
      "text/html": [
       "<div>\n",
       "<style scoped>\n",
       "    .dataframe tbody tr th:only-of-type {\n",
       "        vertical-align: middle;\n",
       "    }\n",
       "\n",
       "    .dataframe tbody tr th {\n",
       "        vertical-align: top;\n",
       "    }\n",
       "\n",
       "    .dataframe thead th {\n",
       "        text-align: right;\n",
       "    }\n",
       "</style>\n",
       "<table border=\"1\" class=\"dataframe\">\n",
       "  <thead>\n",
       "    <tr style=\"text-align: right;\">\n",
       "      <th></th>\n",
       "      <th>res_id</th>\n",
       "      <th>name</th>\n",
       "      <th>establishment</th>\n",
       "      <th>url</th>\n",
       "      <th>address</th>\n",
       "      <th>city</th>\n",
       "      <th>locality</th>\n",
       "      <th>locality_verbose</th>\n",
       "      <th>cuisines</th>\n",
       "      <th>timings</th>\n",
       "      <th>price_range</th>\n",
       "      <th>highlights</th>\n",
       "      <th>rating_text</th>\n",
       "      <th>delivery</th>\n",
       "    </tr>\n",
       "  </thead>\n",
       "  <tbody>\n",
       "    <tr>\n",
       "      <td>count</td>\n",
       "      <td>148968</td>\n",
       "      <td>148968</td>\n",
       "      <td>144141</td>\n",
       "      <td>148968</td>\n",
       "      <td>148834</td>\n",
       "      <td>148968</td>\n",
       "      <td>148968</td>\n",
       "      <td>148968</td>\n",
       "      <td>147577</td>\n",
       "      <td>145094</td>\n",
       "      <td>148968</td>\n",
       "      <td>146899</td>\n",
       "      <td>148968</td>\n",
       "      <td>148968</td>\n",
       "    </tr>\n",
       "    <tr>\n",
       "      <td>unique</td>\n",
       "      <td>40278</td>\n",
       "      <td>30434</td>\n",
       "      <td>26</td>\n",
       "      <td>40278</td>\n",
       "      <td>36789</td>\n",
       "      <td>97</td>\n",
       "      <td>2749</td>\n",
       "      <td>2915</td>\n",
       "      <td>6641</td>\n",
       "      <td>5640</td>\n",
       "      <td>4</td>\n",
       "      <td>23168</td>\n",
       "      <td>39</td>\n",
       "      <td>3</td>\n",
       "    </tr>\n",
       "    <tr>\n",
       "      <td>top</td>\n",
       "      <td>19123581</td>\n",
       "      <td>Dominos Pizza</td>\n",
       "      <td>Quick Bites</td>\n",
       "      <td>https://www.zomato.com/chennai/chettiar-biryan...</td>\n",
       "      <td>Laxman Jhula, Tapovan, Rishikesh</td>\n",
       "      <td>Mumbai</td>\n",
       "      <td>Civil Lines</td>\n",
       "      <td>Ana Sagar Lake, Ajmer</td>\n",
       "      <td>North Indian</td>\n",
       "      <td>11 AM to 11 PM</td>\n",
       "      <td>1</td>\n",
       "      <td>Dinner, Takeaway Available, Lunch, Cash, Indoo...</td>\n",
       "      <td>Very Good</td>\n",
       "      <td>-1</td>\n",
       "    </tr>\n",
       "    <tr>\n",
       "      <td>freq</td>\n",
       "      <td>145</td>\n",
       "      <td>2500</td>\n",
       "      <td>47594</td>\n",
       "      <td>145</td>\n",
       "      <td>299</td>\n",
       "      <td>6494</td>\n",
       "      <td>3648</td>\n",
       "      <td>1758</td>\n",
       "      <td>14485</td>\n",
       "      <td>19032</td>\n",
       "      <td>61883</td>\n",
       "      <td>2329</td>\n",
       "      <td>47511</td>\n",
       "      <td>90596</td>\n",
       "    </tr>\n",
       "  </tbody>\n",
       "</table>\n",
       "</div>"
      ],
      "text/plain": [
       "          res_id           name establishment  \\\n",
       "count     148968         148968        144141   \n",
       "unique     40278          30434            26   \n",
       "top     19123581  Dominos Pizza   Quick Bites   \n",
       "freq         145           2500         47594   \n",
       "\n",
       "                                                      url  \\\n",
       "count                                              148968   \n",
       "unique                                              40278   \n",
       "top     https://www.zomato.com/chennai/chettiar-biryan...   \n",
       "freq                                                  145   \n",
       "\n",
       "                                 address    city     locality  \\\n",
       "count                             148834  148968       148968   \n",
       "unique                             36789      97         2749   \n",
       "top     Laxman Jhula, Tapovan, Rishikesh  Mumbai  Civil Lines   \n",
       "freq                                 299    6494         3648   \n",
       "\n",
       "             locality_verbose      cuisines         timings  price_range  \\\n",
       "count                  148968        147577          145094       148968   \n",
       "unique                   2915          6641            5640            4   \n",
       "top     Ana Sagar Lake, Ajmer  North Indian  11 AM to 11 PM            1   \n",
       "freq                     1758         14485           19032        61883   \n",
       "\n",
       "                                               highlights rating_text  \\\n",
       "count                                              146899      148968   \n",
       "unique                                              23168          39   \n",
       "top     Dinner, Takeaway Available, Lunch, Cash, Indoo...   Very Good   \n",
       "freq                                                 2329       47511   \n",
       "\n",
       "        delivery  \n",
       "count     148968  \n",
       "unique         3  \n",
       "top           -1  \n",
       "freq       90596  "
      ]
     },
     "execution_count": 144,
     "metadata": {},
     "output_type": "execute_result"
    }
   ],
   "source": [
    "dataset.describe(include = ['category'])"
   ]
  },
  {
   "cell_type": "markdown",
   "metadata": {},
   "source": [
    "<a id = 'correlation'> </a>\n",
    "## 7. Study correlation"
   ]
  },
  {
   "cell_type": "code",
   "execution_count": 145,
   "metadata": {},
   "outputs": [
    {
     "data": {
      "image/png": "[encoded data removed]",
      "text/plain": [
       "<Figure size 2160x1440 with 2 Axes>"
      ]
     },
     "metadata": {
      "needs_background": "light"
     },
     "output_type": "display_data"
    }
   ],
   "source": [
    "plt.figure(figsize=(30,20))\n",
    "cor = dataset.corr()\n",
    "sns.heatmap(cor, annot=True, cmap=plt.cm.Reds)\n",
    "plt.show()"
   ]
  },
  {
   "cell_type": "markdown",
   "metadata": {},
   "source": [
    "<a id='outliers'> </a>\n",
    "## 8. Detect outliers"
   ]
  },
  {
   "cell_type": "code",
   "execution_count": 146,
   "metadata": {},
   "outputs": [],
   "source": [
    "# Going by the summary statistics \n",
    "    # latitude value of 10000.000000 is an outlier .\n",
    "    # average value for two of Rs30000 is an outlier ."
   ]
  },
  {
   "cell_type": "markdown",
   "metadata": {},
   "source": [
    "<a id='region'> </a>\n",
    "## 9. Create a new variable 'region'\n"
   ]
  },
  {
   "cell_type": "markdown",
   "metadata": {},
   "source": [
    "Create a variable 'region' with four categories 'northern','eastern', 'southern', 'western' and 'central'. To do so, use the 'city' column, group all cities belonging to the same region. "
   ]
  },
  {
   "cell_type": "code",
   "execution_count": 147,
   "metadata": {},
   "outputs": [
    {
     "data": {
      "text/html": [
       "<div>\n",
       "<style scoped>\n",
       "    .dataframe tbody tr th:only-of-type {\n",
       "        vertical-align: middle;\n",
       "    }\n",
       "\n",
       "    .dataframe tbody tr th {\n",
       "        vertical-align: top;\n",
       "    }\n",
       "\n",
       "    .dataframe thead th {\n",
       "        text-align: right;\n",
       "    }\n",
       "</style>\n",
       "<table border=\"1\" class=\"dataframe\">\n",
       "  <thead>\n",
       "    <tr style=\"text-align: right;\">\n",
       "      <th></th>\n",
       "      <th>res_id</th>\n",
       "      <th>name</th>\n",
       "      <th>establishment</th>\n",
       "      <th>url</th>\n",
       "      <th>address</th>\n",
       "      <th>city</th>\n",
       "      <th>locality</th>\n",
       "      <th>latitude</th>\n",
       "      <th>longitude</th>\n",
       "      <th>country_id</th>\n",
       "      <th>...</th>\n",
       "      <th>average_cost_for_two</th>\n",
       "      <th>price_range</th>\n",
       "      <th>highlights</th>\n",
       "      <th>aggregate_rating</th>\n",
       "      <th>rating_text</th>\n",
       "      <th>votes</th>\n",
       "      <th>photo_count</th>\n",
       "      <th>delivery</th>\n",
       "      <th>latitude_in_radians</th>\n",
       "      <th>longitude_in_radians</th>\n",
       "    </tr>\n",
       "  </thead>\n",
       "  <tbody>\n",
       "    <tr>\n",
       "      <td>0</td>\n",
       "      <td>3400299</td>\n",
       "      <td>Bikanervala</td>\n",
       "      <td>Quick Bites</td>\n",
       "      <td>https://www.zomato.com/agra/bikanervala-khanda...</td>\n",
       "      <td>Kalyani Point, Near Tulsi Cinema, Bypass Road,...</td>\n",
       "      <td>Agra</td>\n",
       "      <td>Khandari</td>\n",
       "      <td>27.211450</td>\n",
       "      <td>78.002381</td>\n",
       "      <td>1</td>\n",
       "      <td>...</td>\n",
       "      <td>700</td>\n",
       "      <td>2</td>\n",
       "      <td>Lunch, Takeaway Available, Credit Card, Dinner...</td>\n",
       "      <td>4.4</td>\n",
       "      <td>Very Good</td>\n",
       "      <td>814</td>\n",
       "      <td>154</td>\n",
       "      <td>-1</td>\n",
       "      <td>0.474929</td>\n",
       "      <td>1.361398</td>\n",
       "    </tr>\n",
       "    <tr>\n",
       "      <td>1</td>\n",
       "      <td>3400005</td>\n",
       "      <td>Mama Chicken Mama Franky House</td>\n",
       "      <td>Quick Bites</td>\n",
       "      <td>https://www.zomato.com/agra/mama-chicken-mama-...</td>\n",
       "      <td>Main Market, Sadar Bazaar, Agra Cantt, Agra</td>\n",
       "      <td>Agra</td>\n",
       "      <td>Agra Cantt</td>\n",
       "      <td>27.160569</td>\n",
       "      <td>78.011583</td>\n",
       "      <td>1</td>\n",
       "      <td>...</td>\n",
       "      <td>600</td>\n",
       "      <td>2</td>\n",
       "      <td>Delivery, No Alcohol Available, Dinner, Takeaw...</td>\n",
       "      <td>4.4</td>\n",
       "      <td>Very Good</td>\n",
       "      <td>1203</td>\n",
       "      <td>161</td>\n",
       "      <td>-1</td>\n",
       "      <td>0.474041</td>\n",
       "      <td>1.361559</td>\n",
       "    </tr>\n",
       "    <tr>\n",
       "      <td>2</td>\n",
       "      <td>3401013</td>\n",
       "      <td>Bhagat Halwai</td>\n",
       "      <td>Quick Bites</td>\n",
       "      <td>https://www.zomato.com/agra/bhagat-halwai-2-sh...</td>\n",
       "      <td>62/1, Near Easy Day, West Shivaji Nagar, Goalp...</td>\n",
       "      <td>Agra</td>\n",
       "      <td>Shahganj</td>\n",
       "      <td>27.182938</td>\n",
       "      <td>77.979684</td>\n",
       "      <td>1</td>\n",
       "      <td>...</td>\n",
       "      <td>300</td>\n",
       "      <td>1</td>\n",
       "      <td>No Alcohol Available, Dinner, Takeaway Availab...</td>\n",
       "      <td>4.2</td>\n",
       "      <td>Very Good</td>\n",
       "      <td>801</td>\n",
       "      <td>107</td>\n",
       "      <td>1</td>\n",
       "      <td>0.474432</td>\n",
       "      <td>1.361002</td>\n",
       "    </tr>\n",
       "    <tr>\n",
       "      <td>3</td>\n",
       "      <td>3400290</td>\n",
       "      <td>Bhagat Halwai</td>\n",
       "      <td>Quick Bites</td>\n",
       "      <td>https://www.zomato.com/agra/bhagat-halwai-civi...</td>\n",
       "      <td>Near Anjana Cinema, Nehru Nagar, Civil Lines, ...</td>\n",
       "      <td>Agra</td>\n",
       "      <td>Civil Lines</td>\n",
       "      <td>27.205668</td>\n",
       "      <td>78.004799</td>\n",
       "      <td>1</td>\n",
       "      <td>...</td>\n",
       "      <td>300</td>\n",
       "      <td>1</td>\n",
       "      <td>Takeaway Available, Credit Card, Lunch, Delive...</td>\n",
       "      <td>4.3</td>\n",
       "      <td>Very Good</td>\n",
       "      <td>693</td>\n",
       "      <td>157</td>\n",
       "      <td>1</td>\n",
       "      <td>0.474828</td>\n",
       "      <td>1.361441</td>\n",
       "    </tr>\n",
       "    <tr>\n",
       "      <td>4</td>\n",
       "      <td>3401744</td>\n",
       "      <td>The Salt Cafe Kitchen &amp; Bar</td>\n",
       "      <td>Casual Dining</td>\n",
       "      <td>https://www.zomato.com/agra/the-salt-cafe-kitc...</td>\n",
       "      <td>1C,3rd Floor, Fatehabad Road, Tajganj, Agra</td>\n",
       "      <td>Agra</td>\n",
       "      <td>Tajganj</td>\n",
       "      <td>27.157709</td>\n",
       "      <td>78.052421</td>\n",
       "      <td>1</td>\n",
       "      <td>...</td>\n",
       "      <td>1000</td>\n",
       "      <td>3</td>\n",
       "      <td>Lunch, Serves Alcohol, Cash, Credit Card, Dinn...</td>\n",
       "      <td>4.9</td>\n",
       "      <td>Excellent</td>\n",
       "      <td>470</td>\n",
       "      <td>291</td>\n",
       "      <td>1</td>\n",
       "      <td>0.473991</td>\n",
       "      <td>1.362272</td>\n",
       "    </tr>\n",
       "  </tbody>\n",
       "</table>\n",
       "<p>5 rows × 23 columns</p>\n",
       "</div>"
      ],
      "text/plain": [
       "    res_id                            name  establishment  \\\n",
       "0  3400299                     Bikanervala    Quick Bites   \n",
       "1  3400005  Mama Chicken Mama Franky House    Quick Bites   \n",
       "2  3401013                   Bhagat Halwai    Quick Bites   \n",
       "3  3400290                   Bhagat Halwai    Quick Bites   \n",
       "4  3401744     The Salt Cafe Kitchen & Bar  Casual Dining   \n",
       "\n",
       "                                                 url  \\\n",
       "0  https://www.zomato.com/agra/bikanervala-khanda...   \n",
       "1  https://www.zomato.com/agra/mama-chicken-mama-...   \n",
       "2  https://www.zomato.com/agra/bhagat-halwai-2-sh...   \n",
       "3  https://www.zomato.com/agra/bhagat-halwai-civi...   \n",
       "4  https://www.zomato.com/agra/the-salt-cafe-kitc...   \n",
       "\n",
       "                                             address  city     locality  \\\n",
       "0  Kalyani Point, Near Tulsi Cinema, Bypass Road,...  Agra     Khandari   \n",
       "1        Main Market, Sadar Bazaar, Agra Cantt, Agra  Agra   Agra Cantt   \n",
       "2  62/1, Near Easy Day, West Shivaji Nagar, Goalp...  Agra     Shahganj   \n",
       "3  Near Anjana Cinema, Nehru Nagar, Civil Lines, ...  Agra  Civil Lines   \n",
       "4        1C,3rd Floor, Fatehabad Road, Tajganj, Agra  Agra      Tajganj   \n",
       "\n",
       "    latitude  longitude  country_id  ... average_cost_for_two price_range  \\\n",
       "0  27.211450  78.002381           1  ...                  700           2   \n",
       "1  27.160569  78.011583           1  ...                  600           2   \n",
       "2  27.182938  77.979684           1  ...                  300           1   \n",
       "3  27.205668  78.004799           1  ...                  300           1   \n",
       "4  27.157709  78.052421           1  ...                 1000           3   \n",
       "\n",
       "                                          highlights  aggregate_rating  \\\n",
       "0  Lunch, Takeaway Available, Credit Card, Dinner...               4.4   \n",
       "1  Delivery, No Alcohol Available, Dinner, Takeaw...               4.4   \n",
       "2  No Alcohol Available, Dinner, Takeaway Availab...               4.2   \n",
       "3  Takeaway Available, Credit Card, Lunch, Delive...               4.3   \n",
       "4  Lunch, Serves Alcohol, Cash, Credit Card, Dinn...               4.9   \n",
       "\n",
       "  rating_text votes  photo_count delivery  latitude_in_radians  \\\n",
       "0   Very Good   814          154       -1             0.474929   \n",
       "1   Very Good  1203          161       -1             0.474041   \n",
       "2   Very Good   801          107        1             0.474432   \n",
       "3   Very Good   693          157        1             0.474828   \n",
       "4   Excellent   470          291        1             0.473991   \n",
       "\n",
       "   longitude_in_radians  \n",
       "0              1.361398  \n",
       "1              1.361559  \n",
       "2              1.361002  \n",
       "3              1.361441  \n",
       "4              1.362272  \n",
       "\n",
       "[5 rows x 23 columns]"
      ]
     },
     "execution_count": 147,
     "metadata": {},
     "output_type": "execute_result"
    }
   ],
   "source": [
    "dataset.head()"
   ]
  },
  {
   "cell_type": "code",
   "execution_count": 148,
   "metadata": {},
   "outputs": [
    {
     "data": {
      "text/html": [
       "<div>\n",
       "<style scoped>\n",
       "    .dataframe tbody tr th:only-of-type {\n",
       "        vertical-align: middle;\n",
       "    }\n",
       "\n",
       "    .dataframe tbody tr th {\n",
       "        vertical-align: top;\n",
       "    }\n",
       "\n",
       "    .dataframe thead th {\n",
       "        text-align: right;\n",
       "    }\n",
       "</style>\n",
       "<table border=\"1\" class=\"dataframe\">\n",
       "  <thead>\n",
       "    <tr style=\"text-align: right;\">\n",
       "      <th></th>\n",
       "      <th>latitude</th>\n",
       "      <th>longitude</th>\n",
       "      <th>country_id</th>\n",
       "      <th>average_cost_for_two</th>\n",
       "      <th>aggregate_rating</th>\n",
       "      <th>votes</th>\n",
       "      <th>photo_count</th>\n",
       "      <th>latitude_in_radians</th>\n",
       "      <th>longitude_in_radians</th>\n",
       "    </tr>\n",
       "    <tr>\n",
       "      <th>city</th>\n",
       "      <th></th>\n",
       "      <th></th>\n",
       "      <th></th>\n",
       "      <th></th>\n",
       "      <th></th>\n",
       "      <th></th>\n",
       "      <th></th>\n",
       "      <th></th>\n",
       "      <th></th>\n",
       "    </tr>\n",
       "  </thead>\n",
       "  <tbody>\n",
       "    <tr>\n",
       "      <td>Agra</td>\n",
       "      <td>27.232910</td>\n",
       "      <td>78.093911</td>\n",
       "      <td>1.0</td>\n",
       "      <td>6500.0</td>\n",
       "      <td>4.9</td>\n",
       "      <td>1203.0</td>\n",
       "      <td>690.0</td>\n",
       "      <td>0.475304</td>\n",
       "      <td>1.362996</td>\n",
       "    </tr>\n",
       "    <tr>\n",
       "      <td>Ahmedabad</td>\n",
       "      <td>23.180380</td>\n",
       "      <td>72.684973</td>\n",
       "      <td>1.0</td>\n",
       "      <td>2500.0</td>\n",
       "      <td>4.9</td>\n",
       "      <td>3610.0</td>\n",
       "      <td>3403.0</td>\n",
       "      <td>0.404574</td>\n",
       "      <td>1.268592</td>\n",
       "    </tr>\n",
       "    <tr>\n",
       "      <td>Ajmer</td>\n",
       "      <td>26.529458</td>\n",
       "      <td>74.698010</td>\n",
       "      <td>1.0</td>\n",
       "      <td>1500.0</td>\n",
       "      <td>4.8</td>\n",
       "      <td>658.0</td>\n",
       "      <td>167.0</td>\n",
       "      <td>0.463026</td>\n",
       "      <td>1.303726</td>\n",
       "    </tr>\n",
       "    <tr>\n",
       "      <td>Alappuzha</td>\n",
       "      <td>9.481701</td>\n",
       "      <td>76.330668</td>\n",
       "      <td>1.0</td>\n",
       "      <td>200.0</td>\n",
       "      <td>0.0</td>\n",
       "      <td>0.0</td>\n",
       "      <td>0.0</td>\n",
       "      <td>0.165487</td>\n",
       "      <td>1.332221</td>\n",
       "    </tr>\n",
       "    <tr>\n",
       "      <td>Allahabad</td>\n",
       "      <td>25.529296</td>\n",
       "      <td>81.918373</td>\n",
       "      <td>1.0</td>\n",
       "      <td>2000.0</td>\n",
       "      <td>4.8</td>\n",
       "      <td>3701.0</td>\n",
       "      <td>312.0</td>\n",
       "      <td>0.445570</td>\n",
       "      <td>1.429745</td>\n",
       "    </tr>\n",
       "    <tr>\n",
       "      <td>...</td>\n",
       "      <td>...</td>\n",
       "      <td>...</td>\n",
       "      <td>...</td>\n",
       "      <td>...</td>\n",
       "      <td>...</td>\n",
       "      <td>...</td>\n",
       "      <td>...</td>\n",
       "      <td>...</td>\n",
       "      <td>...</td>\n",
       "    </tr>\n",
       "    <tr>\n",
       "      <td>Varanasi</td>\n",
       "      <td>25.379981</td>\n",
       "      <td>83.113159</td>\n",
       "      <td>1.0</td>\n",
       "      <td>2000.0</td>\n",
       "      <td>4.9</td>\n",
       "      <td>1443.0</td>\n",
       "      <td>830.0</td>\n",
       "      <td>0.442964</td>\n",
       "      <td>1.450598</td>\n",
       "    </tr>\n",
       "    <tr>\n",
       "      <td>Vellore</td>\n",
       "      <td>12.977480</td>\n",
       "      <td>79.159988</td>\n",
       "      <td>1.0</td>\n",
       "      <td>800.0</td>\n",
       "      <td>3.9</td>\n",
       "      <td>60.0</td>\n",
       "      <td>10.0</td>\n",
       "      <td>0.226500</td>\n",
       "      <td>1.381602</td>\n",
       "    </tr>\n",
       "    <tr>\n",
       "      <td>Vijayawada</td>\n",
       "      <td>16.558487</td>\n",
       "      <td>80.702576</td>\n",
       "      <td>1.0</td>\n",
       "      <td>1500.0</td>\n",
       "      <td>3.7</td>\n",
       "      <td>96.0</td>\n",
       "      <td>46.0</td>\n",
       "      <td>0.289000</td>\n",
       "      <td>1.408526</td>\n",
       "    </tr>\n",
       "    <tr>\n",
       "      <td>Vizag</td>\n",
       "      <td>17.822839</td>\n",
       "      <td>83.357914</td>\n",
       "      <td>1.0</td>\n",
       "      <td>500.0</td>\n",
       "      <td>3.9</td>\n",
       "      <td>201.0</td>\n",
       "      <td>22.0</td>\n",
       "      <td>0.311067</td>\n",
       "      <td>1.454870</td>\n",
       "    </tr>\n",
       "    <tr>\n",
       "      <td>Zirakpur</td>\n",
       "      <td>30.670122</td>\n",
       "      <td>76.855809</td>\n",
       "      <td>1.0</td>\n",
       "      <td>2500.0</td>\n",
       "      <td>4.6</td>\n",
       "      <td>608.0</td>\n",
       "      <td>865.0</td>\n",
       "      <td>0.535295</td>\n",
       "      <td>1.341387</td>\n",
       "    </tr>\n",
       "  </tbody>\n",
       "</table>\n",
       "<p>98 rows × 9 columns</p>\n",
       "</div>"
      ],
      "text/plain": [
       "             latitude  longitude  country_id  average_cost_for_two  \\\n",
       "city                                                                 \n",
       "Agra        27.232910  78.093911         1.0                6500.0   \n",
       "Ahmedabad   23.180380  72.684973         1.0                2500.0   \n",
       "Ajmer       26.529458  74.698010         1.0                1500.0   \n",
       "Alappuzha    9.481701  76.330668         1.0                 200.0   \n",
       "Allahabad   25.529296  81.918373         1.0                2000.0   \n",
       "...               ...        ...         ...                   ...   \n",
       "Varanasi    25.379981  83.113159         1.0                2000.0   \n",
       "Vellore     12.977480  79.159988         1.0                 800.0   \n",
       "Vijayawada  16.558487  80.702576         1.0                1500.0   \n",
       "Vizag       17.822839  83.357914         1.0                 500.0   \n",
       "Zirakpur    30.670122  76.855809         1.0                2500.0   \n",
       "\n",
       "            aggregate_rating   votes  photo_count  latitude_in_radians  \\\n",
       "city                                                                     \n",
       "Agra                     4.9  1203.0        690.0             0.475304   \n",
       "Ahmedabad                4.9  3610.0       3403.0             0.404574   \n",
       "Ajmer                    4.8   658.0        167.0             0.463026   \n",
       "Alappuzha                0.0     0.0          0.0             0.165487   \n",
       "Allahabad                4.8  3701.0        312.0             0.445570   \n",
       "...                      ...     ...          ...                  ...   \n",
       "Varanasi                 4.9  1443.0        830.0             0.442964   \n",
       "Vellore                  3.9    60.0         10.0             0.226500   \n",
       "Vijayawada               3.7    96.0         46.0             0.289000   \n",
       "Vizag                    3.9   201.0         22.0             0.311067   \n",
       "Zirakpur                 4.6   608.0        865.0             0.535295   \n",
       "\n",
       "            longitude_in_radians  \n",
       "city                              \n",
       "Agra                    1.362996  \n",
       "Ahmedabad               1.268592  \n",
       "Ajmer                   1.303726  \n",
       "Alappuzha               1.332221  \n",
       "Allahabad               1.429745  \n",
       "...                          ...  \n",
       "Varanasi                1.450598  \n",
       "Vellore                 1.381602  \n",
       "Vijayawada              1.408526  \n",
       "Vizag                   1.454870  \n",
       "Zirakpur                1.341387  \n",
       "\n",
       "[98 rows x 9 columns]"
      ]
     },
     "execution_count": 148,
     "metadata": {},
     "output_type": "execute_result"
    }
   ],
   "source": [
    "dataset.groupby('city').max()"
   ]
  },
  {
   "cell_type": "code",
   "execution_count": null,
   "metadata": {},
   "outputs": [],
   "source": []
  },
  {
   "cell_type": "markdown",
   "metadata": {},
   "source": [
    "<a id='more'> </a>\n",
    "## 10. Some more Analysis"
   ]
  },
  {
   "cell_type": "markdown",
   "metadata": {},
   "source": [
    "<b>Lets us explore the data some more now that we have extrapolated and removed the missing values <br>\n",
    "We now conduct analysis to compare the regions.</b>"
   ]
  },
  {
   "cell_type": "markdown",
   "metadata": {},
   "source": [
    "### 1. To find which cities have expensive restaurants \n",
    "\n",
    "-  plot the cities which have costliest restaurants. "
   ]
  },
  {
   "cell_type": "code",
   "execution_count": 150,
   "metadata": {},
   "outputs": [
    {
     "data": {
      "text/plain": [
       "name\n",
       "# Wednesday                             250.0\n",
       "#1, Culinary Avenue - The Red Maple    1500.0\n",
       "#788 Avenue                               NaN\n",
       "#BC                                    2000.0\n",
       "#BEiR                                     NaN\n",
       "                                        ...  \n",
       " Food Street - Veg                      250.0\n",
       "ट 4 Tasty                                 NaN\n",
       "द Vege टेबल                            1000.0\n",
       "स्पेस Bar                              1700.0\n",
       "ह-tea The Tea Hut                       550.0\n",
       "Name: average_cost_for_two, Length: 40965, dtype: float64"
      ]
     },
     "execution_count": 150,
     "metadata": {},
     "output_type": "execute_result"
    }
   ],
   "source": [
    "dataset.groupby(\"name\")['average_cost_for_two'].max()"
   ]
  },
  {
   "cell_type": "markdown",
   "metadata": {},
   "source": [
    "### 2.  Comparing regions"
   ]
  },
  {
   "cell_type": "code",
   "execution_count": null,
   "metadata": {},
   "outputs": [],
   "source": []
  },
  {
   "cell_type": "markdown",
   "metadata": {},
   "source": [
    "### 2a. Highlights available in restaurants for different regions"
   ]
  },
  {
   "cell_type": "markdown",
   "metadata": {},
   "source": [
    "To cater our analysis we define the regions as nothern, eastern, western and southern."
   ]
  },
  {
   "cell_type": "markdown",
   "metadata": {},
   "source": [
    "We first need to select the unique facilities available in each region and sort according to their frequencies."
   ]
  },
  {
   "cell_type": "markdown",
   "metadata": {},
   "source": [
    "**Highlights of the northern region**"
   ]
  },
  {
   "cell_type": "code",
   "execution_count": null,
   "metadata": {},
   "outputs": [],
   "source": []
  },
  {
   "cell_type": "markdown",
   "metadata": {},
   "source": [
    "**Highlights of the eastern region**"
   ]
  },
  {
   "cell_type": "code",
   "execution_count": null,
   "metadata": {},
   "outputs": [],
   "source": []
  },
  {
   "cell_type": "markdown",
   "metadata": {},
   "source": [
    "**Highlights of the southern region**"
   ]
  },
  {
   "cell_type": "code",
   "execution_count": null,
   "metadata": {},
   "outputs": [],
   "source": []
  },
  {
   "cell_type": "markdown",
   "metadata": {},
   "source": [
    "**Highlights of the western region**"
   ]
  },
  {
   "cell_type": "code",
   "execution_count": null,
   "metadata": {},
   "outputs": [],
   "source": []
  },
  {
   "cell_type": "markdown",
   "metadata": {},
   "source": [
    "#### Plot the barplot for different regions"
   ]
  },
  {
   "cell_type": "markdown",
   "metadata": {},
   "source": [
    "We shall now plot the graphs for top 10 highlights."
   ]
  },
  {
   "cell_type": "code",
   "execution_count": null,
   "metadata": {},
   "outputs": [],
   "source": []
  },
  {
   "cell_type": "markdown",
   "metadata": {},
   "source": [
    "### 2b. Cuisines available in restaurants for different regions"
   ]
  },
  {
   "cell_type": "markdown",
   "metadata": {},
   "source": [
    "**Cuisines in the northern region**"
   ]
  },
  {
   "cell_type": "code",
   "execution_count": null,
   "metadata": {},
   "outputs": [],
   "source": []
  },
  {
   "cell_type": "markdown",
   "metadata": {},
   "source": [
    "**Cuisines in the eastern region**"
   ]
  },
  {
   "cell_type": "code",
   "execution_count": null,
   "metadata": {},
   "outputs": [],
   "source": []
  },
  {
   "cell_type": "markdown",
   "metadata": {},
   "source": [
    "**Cuisines in the southern region**"
   ]
  },
  {
   "cell_type": "code",
   "execution_count": null,
   "metadata": {},
   "outputs": [],
   "source": []
  },
  {
   "cell_type": "markdown",
   "metadata": {},
   "source": [
    "**Cuisines in the western region** "
   ]
  },
  {
   "cell_type": "code",
   "execution_count": null,
   "metadata": {},
   "outputs": [],
   "source": []
  },
  {
   "cell_type": "markdown",
   "metadata": {},
   "source": [
    "- Plot the barplot for top 10 cuisines served in the four regions"
   ]
  },
  {
   "cell_type": "markdown",
   "metadata": {},
   "source": [
    "###  3. The Northern Region"
   ]
  },
  {
   "cell_type": "markdown",
   "metadata": {},
   "source": [
    "**Now we shall consider only the northern region**"
   ]
  },
  {
   "cell_type": "markdown",
   "metadata": {},
   "source": [
    "**1. The top 10 cuisines served in Restaurants** "
   ]
  },
  {
   "cell_type": "code",
   "execution_count": null,
   "metadata": {},
   "outputs": [],
   "source": []
  },
  {
   "cell_type": "markdown",
   "metadata": {},
   "source": [
    "**2. Do restaurants with more photo counts and votes have better rating?**"
   ]
  },
  {
   "cell_type": "code",
   "execution_count": null,
   "metadata": {},
   "outputs": [],
   "source": []
  },
  {
   "cell_type": "markdown",
   "metadata": {},
   "source": [
    "- Plot a boxplots for the above table"
   ]
  },
  {
   "cell_type": "markdown",
   "metadata": {},
   "source": [
    "### 4. The Mumbai city"
   ]
  },
  {
   "cell_type": "markdown",
   "metadata": {},
   "source": [
    "consider the city mumbai and get a better insights of restuarants in Mumbai."
   ]
  },
  {
   "cell_type": "code",
   "execution_count": 54,
   "metadata": {},
   "outputs": [],
   "source": [
    "mumbai_ds = dataset.loc[(dataset['city'] == 'Mumbai')]"
   ]
  },
  {
   "cell_type": "code",
   "execution_count": 55,
   "metadata": {},
   "outputs": [
    {
     "data": {
      "text/html": [
       "<div>\n",
       "<style scoped>\n",
       "    .dataframe tbody tr th:only-of-type {\n",
       "        vertical-align: middle;\n",
       "    }\n",
       "\n",
       "    .dataframe tbody tr th {\n",
       "        vertical-align: top;\n",
       "    }\n",
       "\n",
       "    .dataframe thead th {\n",
       "        text-align: right;\n",
       "    }\n",
       "</style>\n",
       "<table border=\"1\" class=\"dataframe\">\n",
       "  <thead>\n",
       "    <tr style=\"text-align: right;\">\n",
       "      <th></th>\n",
       "      <th>latitude</th>\n",
       "      <th>country_id</th>\n",
       "      <th>average_cost_for_two</th>\n",
       "      <th>aggregate_rating</th>\n",
       "      <th>votes</th>\n",
       "      <th>photo_count</th>\n",
       "      <th>latitude_in_radians</th>\n",
       "    </tr>\n",
       "  </thead>\n",
       "  <tbody>\n",
       "    <tr>\n",
       "      <td>count</td>\n",
       "      <td>6494.000000</td>\n",
       "      <td>6494.0</td>\n",
       "      <td>6494.000000</td>\n",
       "      <td>6494.000000</td>\n",
       "      <td>6494.000000</td>\n",
       "      <td>6494.000000</td>\n",
       "      <td>6494.000000</td>\n",
       "    </tr>\n",
       "    <tr>\n",
       "      <td>mean</td>\n",
       "      <td>19.087974</td>\n",
       "      <td>1.0</td>\n",
       "      <td>1389.613489</td>\n",
       "      <td>4.006698</td>\n",
       "      <td>1404.088081</td>\n",
       "      <td>1861.352171</td>\n",
       "      <td>0.333148</td>\n",
       "    </tr>\n",
       "    <tr>\n",
       "      <td>std</td>\n",
       "      <td>0.088588</td>\n",
       "      <td>0.0</td>\n",
       "      <td>1321.531387</td>\n",
       "      <td>0.767809</td>\n",
       "      <td>1646.886722</td>\n",
       "      <td>2703.898110</td>\n",
       "      <td>0.001546</td>\n",
       "    </tr>\n",
       "    <tr>\n",
       "      <td>min</td>\n",
       "      <td>18.913193</td>\n",
       "      <td>1.0</td>\n",
       "      <td>50.000000</td>\n",
       "      <td>0.000000</td>\n",
       "      <td>0.000000</td>\n",
       "      <td>0.000000</td>\n",
       "      <td>0.330097</td>\n",
       "    </tr>\n",
       "    <tr>\n",
       "      <td>25%</td>\n",
       "      <td>19.031964</td>\n",
       "      <td>1.0</td>\n",
       "      <td>500.000000</td>\n",
       "      <td>3.900000</td>\n",
       "      <td>249.000000</td>\n",
       "      <td>211.000000</td>\n",
       "      <td>0.332170</td>\n",
       "    </tr>\n",
       "    <tr>\n",
       "      <td>50%</td>\n",
       "      <td>19.100085</td>\n",
       "      <td>1.0</td>\n",
       "      <td>1200.000000</td>\n",
       "      <td>4.100000</td>\n",
       "      <td>843.500000</td>\n",
       "      <td>873.000000</td>\n",
       "      <td>0.333359</td>\n",
       "    </tr>\n",
       "    <tr>\n",
       "      <td>75%</td>\n",
       "      <td>19.139950</td>\n",
       "      <td>1.0</td>\n",
       "      <td>1900.000000</td>\n",
       "      <td>4.400000</td>\n",
       "      <td>1980.000000</td>\n",
       "      <td>2420.000000</td>\n",
       "      <td>0.334055</td>\n",
       "    </tr>\n",
       "    <tr>\n",
       "      <td>max</td>\n",
       "      <td>19.464394</td>\n",
       "      <td>1.0</td>\n",
       "      <td>30000.000000</td>\n",
       "      <td>4.900000</td>\n",
       "      <td>10278.000000</td>\n",
       "      <td>16595.000000</td>\n",
       "      <td>0.339718</td>\n",
       "    </tr>\n",
       "  </tbody>\n",
       "</table>\n",
       "</div>"
      ],
      "text/plain": [
       "          latitude  country_id  average_cost_for_two  aggregate_rating  \\\n",
       "count  6494.000000      6494.0           6494.000000       6494.000000   \n",
       "mean     19.087974         1.0           1389.613489          4.006698   \n",
       "std       0.088588         0.0           1321.531387          0.767809   \n",
       "min      18.913193         1.0             50.000000          0.000000   \n",
       "25%      19.031964         1.0            500.000000          3.900000   \n",
       "50%      19.100085         1.0           1200.000000          4.100000   \n",
       "75%      19.139950         1.0           1900.000000          4.400000   \n",
       "max      19.464394         1.0          30000.000000          4.900000   \n",
       "\n",
       "              votes   photo_count  latitude_in_radians  \n",
       "count   6494.000000   6494.000000          6494.000000  \n",
       "mean    1404.088081   1861.352171             0.333148  \n",
       "std     1646.886722   2703.898110             0.001546  \n",
       "min        0.000000      0.000000             0.330097  \n",
       "25%      249.000000    211.000000             0.332170  \n",
       "50%      843.500000    873.000000             0.333359  \n",
       "75%     1980.000000   2420.000000             0.334055  \n",
       "max    10278.000000  16595.000000             0.339718  "
      ]
     },
     "execution_count": 55,
     "metadata": {},
     "output_type": "execute_result"
    }
   ],
   "source": [
    "mumbai_ds.describe()"
   ]
  },
  {
   "cell_type": "markdown",
   "metadata": {},
   "source": [
    "**1. Expensive restaurants in Mumbai**\n",
    "\n",
    "-  Define the costliest restaurants whose average cost of two people exceeds Rs.5000 .\n",
    "-  Plot the restaurants which are costliest based on their average cost for two .\n",
    "\n",
    "\n"
   ]
  },
  {
   "cell_type": "code",
   "execution_count": 56,
   "metadata": {},
   "outputs": [],
   "source": [
    "expensive_rest = mumbai_ds.loc[(mumbai_ds['average_cost_for_two'] > 5000)]\n",
    "# expensive_rest"
   ]
  },
  {
   "cell_type": "code",
   "execution_count": 57,
   "metadata": {},
   "outputs": [
    {
     "name": "stdout",
     "output_type": "stream",
     "text": [
      "135881                            Vista - Taj Lands End\n",
      "135910                      Souk - The Taj Mahal Palace\n",
      "135918        Wasabi By Morimoto - The Taj Mahal Palace\n",
      "135924                             Celini - Grand Hyatt\n",
      "135925              Masala Kraft - The Taj Mahal Palace\n",
      "135943                            San-Qi - Four Seasons\n",
      "136060                        Bombay High - ITC Maratha\n",
      "136240    Ocean - The Private Dining Room - Sahara Star\n",
      "136241        Wasabi By Morimoto - The Taj Mahal Palace\n",
      "136242                     Yuuka - The St. Regis Mumbai\n",
      "136243              Masala Kraft - The Taj Mahal Palace\n",
      "136244                             Celini - Grand Hyatt\n",
      "136245           Le Cirque Signature - The Leela Mumbai\n",
      "136246                            Vista - Taj Lands End\n",
      "136247                      Souk - The Taj Mahal Palace\n",
      "136248                            San-Qi - Four Seasons\n",
      "136249                        Bombay High - ITC Maratha\n",
      "136740    Ocean - The Private Dining Room - Sahara Star\n",
      "136741        Wasabi By Morimoto - The Taj Mahal Palace\n",
      "136742                     Yuuka - The St. Regis Mumbai\n",
      "136743              Masala Kraft - The Taj Mahal Palace\n",
      "136744                             Celini - Grand Hyatt\n",
      "136745           Le Cirque Signature - The Leela Mumbai\n",
      "136746                            Vista - Taj Lands End\n",
      "136747                      Souk - The Taj Mahal Palace\n",
      "136748                            San-Qi - Four Seasons\n",
      "136749                        Bombay High - ITC Maratha\n",
      "137240    Ocean - The Private Dining Room - Sahara Star\n",
      "137241        Wasabi By Morimoto - The Taj Mahal Palace\n",
      "137242                     Yuuka - The St. Regis Mumbai\n",
      "137243              Masala Kraft - The Taj Mahal Palace\n",
      "137244                             Celini - Grand Hyatt\n",
      "137245           Le Cirque Signature - The Leela Mumbai\n",
      "137246                            Vista - Taj Lands End\n",
      "137247                      Souk - The Taj Mahal Palace\n",
      "137248                            San-Qi - Four Seasons\n",
      "137249                        Bombay High - ITC Maratha\n",
      "138569                            Vista - Taj Lands End\n",
      "138601                      Souk - The Taj Mahal Palace\n",
      "138607        Wasabi By Morimoto - The Taj Mahal Palace\n",
      "138613                             Celini - Grand Hyatt\n",
      "138614              Masala Kraft - The Taj Mahal Palace\n",
      "138631                            San-Qi - Four Seasons\n",
      "138748                        Bombay High - ITC Maratha\n",
      "140760                             Celini - Grand Hyatt\n",
      "140777                     Yuuka - The St. Regis Mumbai\n",
      "140825                      Souk - The Taj Mahal Palace\n",
      "141011                             Celini - Grand Hyatt\n",
      "141013                            San-Qi - Four Seasons\n",
      "141119                            Vista - Taj Lands End\n",
      "141171                             Celini - Grand Hyatt\n",
      "141186                        Bombay High - ITC Maratha\n",
      "141396                            San-Qi - Four Seasons\n",
      "142122                            Vista - Taj Lands End\n",
      "142156                      Souk - The Taj Mahal Palace\n",
      "142171                            Vista - Taj Lands End\n",
      "Name: name, dtype: category\n",
      "Categories (40965, object): [# Wednesday, #1, Culinary Avenue - The Red Maple, #788 Avenue, #BC, ..., ट 4 Tasty, द Vege टेबल, स्पेस Bar, ह-tea The Tea Hut]\n"
     ]
    }
   ],
   "source": [
    "expensive_restaurants = expensive_rest['name']\n",
    "print(expensive_restaurants)"
   ]
  },
  {
   "cell_type": "code",
   "execution_count": 58,
   "metadata": {},
   "outputs": [
    {
     "data": {
      "image/png": "[encoded data removed]",
      "text/plain": [
       "<Figure size 432x288 with 1 Axes>"
      ]
     },
     "metadata": {
      "needs_background": "light"
     },
     "output_type": "display_data"
    }
   ],
   "source": [
    "x = expensive_rest['average_cost_for_two']\n",
    "ax = sns.distplot(x)"
   ]
  },
  {
   "cell_type": "markdown",
   "metadata": {},
   "source": [
    "**2.To find the top 20 cuisines of Mumbai**"
   ]
  },
  {
   "cell_type": "markdown",
   "metadata": {},
   "source": [
    "- select unique cuisines available at restaurants in Mumbai\n",
    "\n",
    "\n",
    "- sort cuisines based on frequency\n"
   ]
  },
  {
   "cell_type": "code",
   "execution_count": 59,
   "metadata": {},
   "outputs": [
    {
     "data": {
      "text/plain": [
       "Bakery, Desserts                                                             132\n",
       "North Indian                                                                 113\n",
       "Beverages, Desserts, Ice Cream                                                93\n",
       "Cafe, Desserts                                                                90\n",
       "American, North Indian, Chinese, Fast Food, Continental, Asian, Beverages     87\n",
       "                                                                            ... \n",
       "Mughlai, Chinese, Finger Food                                                  0\n",
       "Mughlai, Chinese, Indian, Afghan                                               0\n",
       "Mughlai, Chinese, Italian                                                      0\n",
       "Mughlai, Chinese, Italian, Continental                                         0\n",
       "Afghan                                                                         0\n",
       "Name: cuisines, Length: 9382, dtype: int64"
      ]
     },
     "execution_count": 59,
     "metadata": {},
     "output_type": "execute_result"
    }
   ],
   "source": [
    "mumbai_ds.cuisines.value_counts()"
   ]
  },
  {
   "cell_type": "code",
   "execution_count": 60,
   "metadata": {},
   "outputs": [
    {
     "data": {
      "text/html": [
       "<div>\n",
       "<style scoped>\n",
       "    .dataframe tbody tr th:only-of-type {\n",
       "        vertical-align: middle;\n",
       "    }\n",
       "\n",
       "    .dataframe tbody tr th {\n",
       "        vertical-align: top;\n",
       "    }\n",
       "\n",
       "    .dataframe thead th {\n",
       "        text-align: right;\n",
       "    }\n",
       "</style>\n",
       "<table border=\"1\" class=\"dataframe\">\n",
       "  <thead>\n",
       "    <tr style=\"text-align: right;\">\n",
       "      <th></th>\n",
       "      <th>res_id</th>\n",
       "      <th>name</th>\n",
       "      <th>establishment</th>\n",
       "      <th>url</th>\n",
       "      <th>address</th>\n",
       "      <th>city</th>\n",
       "      <th>locality</th>\n",
       "      <th>latitude</th>\n",
       "      <th>longitude</th>\n",
       "      <th>country_id</th>\n",
       "      <th>...</th>\n",
       "      <th>timings</th>\n",
       "      <th>average_cost_for_two</th>\n",
       "      <th>price_range</th>\n",
       "      <th>highlights</th>\n",
       "      <th>aggregate_rating</th>\n",
       "      <th>rating_text</th>\n",
       "      <th>votes</th>\n",
       "      <th>photo_count</th>\n",
       "      <th>delivery</th>\n",
       "      <th>latitude_in_radians</th>\n",
       "    </tr>\n",
       "  </thead>\n",
       "  <tbody>\n",
       "    <tr>\n",
       "      <td>134852</td>\n",
       "      <td>18562340</td>\n",
       "      <td>Drinkery 51</td>\n",
       "      <td>Casual Dining</td>\n",
       "      <td>https://www.zomato.com/mumbai/drinkery-51-band...</td>\n",
       "      <td>1st Floor, Vibgyor Towers, Bandra Kurla Comple...</td>\n",
       "      <td>Mumbai</td>\n",
       "      <td>Bandra Kurla Complex</td>\n",
       "      <td>19.067176</td>\n",
       "      <td>72.867493</td>\n",
       "      <td>1</td>\n",
       "      <td>...</td>\n",
       "      <td>12 Noon to 1:30 AM</td>\n",
       "      <td>2000</td>\n",
       "      <td>4</td>\n",
       "      <td>Dinner, Debit Card, Lunch, Serves Alcohol, Cas...</td>\n",
       "      <td>4.4</td>\n",
       "      <td>Very Good</td>\n",
       "      <td>3796</td>\n",
       "      <td>1897</td>\n",
       "      <td>1</td>\n",
       "      <td>0.332785</td>\n",
       "    </tr>\n",
       "    <tr>\n",
       "      <td>134853</td>\n",
       "      <td>34757</td>\n",
       "      <td>Joeys Pizza</td>\n",
       "      <td>Quick Bites</td>\n",
       "      <td>https://www.zomato.com/mumbai/joeys-pizza-mala...</td>\n",
       "      <td>Shop 1, Plot D, Samruddhi Complex, Chincholi B...</td>\n",
       "      <td>Mumbai</td>\n",
       "      <td>Malad West</td>\n",
       "      <td>19.178188</td>\n",
       "      <td>72.834666</td>\n",
       "      <td>1</td>\n",
       "      <td>...</td>\n",
       "      <td>11am – 12midnight (Mon-Sun)</td>\n",
       "      <td>800</td>\n",
       "      <td>2</td>\n",
       "      <td>Lunch, Cash, Takeaway Available, Debit Card, D...</td>\n",
       "      <td>4.5</td>\n",
       "      <td>Excellent</td>\n",
       "      <td>7932</td>\n",
       "      <td>4960</td>\n",
       "      <td>-1</td>\n",
       "      <td>0.334723</td>\n",
       "    </tr>\n",
       "    <tr>\n",
       "      <td>134854</td>\n",
       "      <td>18548172</td>\n",
       "      <td>Hitchki</td>\n",
       "      <td>Bar</td>\n",
       "      <td>https://www.zomato.com/mumbai/hitchki-powai?ut...</td>\n",
       "      <td>5, Transocean, Hiranandani Business Park, Lake...</td>\n",
       "      <td>Mumbai</td>\n",
       "      <td>Powai</td>\n",
       "      <td>19.119930</td>\n",
       "      <td>72.907331</td>\n",
       "      <td>1</td>\n",
       "      <td>...</td>\n",
       "      <td>12 Noon to 1:30 AM</td>\n",
       "      <td>1600</td>\n",
       "      <td>3</td>\n",
       "      <td>Lunch, Serves Alcohol, Cash, Credit Card, Dinn...</td>\n",
       "      <td>4.7</td>\n",
       "      <td>Excellent</td>\n",
       "      <td>3762</td>\n",
       "      <td>12979</td>\n",
       "      <td>1</td>\n",
       "      <td>0.333706</td>\n",
       "    </tr>\n",
       "    <tr>\n",
       "      <td>134855</td>\n",
       "      <td>18392725</td>\n",
       "      <td>Tamasha</td>\n",
       "      <td>Lounge</td>\n",
       "      <td>https://www.zomato.com/mumbai/tamasha-lower-pa...</td>\n",
       "      <td>Ground Floor, Victoria House, E.B Marg, Lower ...</td>\n",
       "      <td>Mumbai</td>\n",
       "      <td>Lower Parel</td>\n",
       "      <td>19.006060</td>\n",
       "      <td>72.827496</td>\n",
       "      <td>1</td>\n",
       "      <td>...</td>\n",
       "      <td>12 Noon to 1 AM</td>\n",
       "      <td>2700</td>\n",
       "      <td>4</td>\n",
       "      <td>Dinner, Cash, Takeaway Available, Credit Card,...</td>\n",
       "      <td>4.7</td>\n",
       "      <td>Excellent</td>\n",
       "      <td>4979</td>\n",
       "      <td>16595</td>\n",
       "      <td>-1</td>\n",
       "      <td>0.331718</td>\n",
       "    </tr>\n",
       "    <tr>\n",
       "      <td>134856</td>\n",
       "      <td>18962112</td>\n",
       "      <td>Bayroute</td>\n",
       "      <td>Fine Dining</td>\n",
       "      <td>https://www.zomato.com/mumbai/bayroute-juhu?ut...</td>\n",
       "      <td>14, Silver Beach Estate, A.B. Nair Road, Oppos...</td>\n",
       "      <td>Mumbai</td>\n",
       "      <td>Juhu</td>\n",
       "      <td>19.110684</td>\n",
       "      <td>72.825368</td>\n",
       "      <td>1</td>\n",
       "      <td>...</td>\n",
       "      <td>12 Noon to 1:30 AM</td>\n",
       "      <td>3000</td>\n",
       "      <td>4</td>\n",
       "      <td>Dinner, Cash, Takeaway Available, Debit Card, ...</td>\n",
       "      <td>4.9</td>\n",
       "      <td>Excellent</td>\n",
       "      <td>706</td>\n",
       "      <td>2484</td>\n",
       "      <td>-1</td>\n",
       "      <td>0.333544</td>\n",
       "    </tr>\n",
       "    <tr>\n",
       "      <td>...</td>\n",
       "      <td>...</td>\n",
       "      <td>...</td>\n",
       "      <td>...</td>\n",
       "      <td>...</td>\n",
       "      <td>...</td>\n",
       "      <td>...</td>\n",
       "      <td>...</td>\n",
       "      <td>...</td>\n",
       "      <td>...</td>\n",
       "      <td>...</td>\n",
       "      <td>...</td>\n",
       "      <td>...</td>\n",
       "      <td>...</td>\n",
       "      <td>...</td>\n",
       "      <td>...</td>\n",
       "      <td>...</td>\n",
       "      <td>...</td>\n",
       "      <td>...</td>\n",
       "      <td>...</td>\n",
       "      <td>...</td>\n",
       "      <td>...</td>\n",
       "    </tr>\n",
       "    <tr>\n",
       "      <td>142348</td>\n",
       "      <td>46792</td>\n",
       "      <td>BOX8- Desi Meals</td>\n",
       "      <td>NaN</td>\n",
       "      <td>https://www.zomato.com/mumbai/box8-desi-meals-...</td>\n",
       "      <td>102, Bhavani Industrial Estate, Opposite IIT B...</td>\n",
       "      <td>Mumbai</td>\n",
       "      <td>Powai</td>\n",
       "      <td>19.124284</td>\n",
       "      <td>72.914877</td>\n",
       "      <td>1</td>\n",
       "      <td>...</td>\n",
       "      <td>11 AM to 1 AM</td>\n",
       "      <td>400</td>\n",
       "      <td>1</td>\n",
       "      <td>Cash, Debit Card, Takeaway Available, No Seati...</td>\n",
       "      <td>4.0</td>\n",
       "      <td>Very Good</td>\n",
       "      <td>726</td>\n",
       "      <td>703</td>\n",
       "      <td>1</td>\n",
       "      <td>0.333782</td>\n",
       "    </tr>\n",
       "    <tr>\n",
       "      <td>142349</td>\n",
       "      <td>37750</td>\n",
       "      <td>Faasos</td>\n",
       "      <td>Quick Bites</td>\n",
       "      <td>https://www.zomato.com/mumbai/faasos-veera-des...</td>\n",
       "      <td>Shop 06, Building 2, Pramukh Park Rehab CHS Li...</td>\n",
       "      <td>Mumbai</td>\n",
       "      <td>Veera Desai Area</td>\n",
       "      <td>19.139601</td>\n",
       "      <td>72.833119</td>\n",
       "      <td>1</td>\n",
       "      <td>...</td>\n",
       "      <td>9 AM to 12 Midnight</td>\n",
       "      <td>450</td>\n",
       "      <td>1</td>\n",
       "      <td>Dinner, Cash, Takeaway Available, Debit Card, ...</td>\n",
       "      <td>3.9</td>\n",
       "      <td>Good</td>\n",
       "      <td>510</td>\n",
       "      <td>251</td>\n",
       "      <td>1</td>\n",
       "      <td>0.334049</td>\n",
       "    </tr>\n",
       "    <tr>\n",
       "      <td>142350</td>\n",
       "      <td>18165909</td>\n",
       "      <td>Charcoal Eats Express</td>\n",
       "      <td>Quick Bites</td>\n",
       "      <td>https://www.zomato.com/mumbai/charcoal-eats-ex...</td>\n",
       "      <td>Opposite Kamala Mills, Lower Parel, Mumbai</td>\n",
       "      <td>Mumbai</td>\n",
       "      <td>Lower Parel</td>\n",
       "      <td>19.002537</td>\n",
       "      <td>72.829391</td>\n",
       "      <td>1</td>\n",
       "      <td>...</td>\n",
       "      <td>11:30 AM to 11 PM</td>\n",
       "      <td>500</td>\n",
       "      <td>2</td>\n",
       "      <td>Lunch, Cash, Credit Card, Dinner, Standing Tab...</td>\n",
       "      <td>4.0</td>\n",
       "      <td>Very Good</td>\n",
       "      <td>491</td>\n",
       "      <td>344</td>\n",
       "      <td>-1</td>\n",
       "      <td>0.331657</td>\n",
       "    </tr>\n",
       "    <tr>\n",
       "      <td>142351</td>\n",
       "      <td>18306481</td>\n",
       "      <td>Wok Express</td>\n",
       "      <td>Food Court</td>\n",
       "      <td>https://www.zomato.com/mumbai/wok-express-1-an...</td>\n",
       "      <td>Food Court, 2nd Floor, Infinity Mall, Unit 215...</td>\n",
       "      <td>Mumbai</td>\n",
       "      <td>Infiniti Mall, Andheri Lokhandwala, Andheri West</td>\n",
       "      <td>19.141117</td>\n",
       "      <td>72.831181</td>\n",
       "      <td>1</td>\n",
       "      <td>...</td>\n",
       "      <td>11 AM to 11 PM</td>\n",
       "      <td>600</td>\n",
       "      <td>2</td>\n",
       "      <td>No Alcohol Available, Dinner, Mall Parking, De...</td>\n",
       "      <td>3.7</td>\n",
       "      <td>Good</td>\n",
       "      <td>515</td>\n",
       "      <td>490</td>\n",
       "      <td>-1</td>\n",
       "      <td>0.334076</td>\n",
       "    </tr>\n",
       "    <tr>\n",
       "      <td>142352</td>\n",
       "      <td>18140577</td>\n",
       "      <td>Rasoi Thali</td>\n",
       "      <td>Quick Bites</td>\n",
       "      <td>https://www.zomato.com/mumbai/rasoi-thali-mulu...</td>\n",
       "      <td>Shop 5, Bhodke Building, Near Hanuman Mandir, ...</td>\n",
       "      <td>Mumbai</td>\n",
       "      <td>Mulund West</td>\n",
       "      <td>19.172657</td>\n",
       "      <td>72.956466</td>\n",
       "      <td>1</td>\n",
       "      <td>...</td>\n",
       "      <td>11 AM to 3:30 PM, 7 PM to 11 PM (Mon-Sun)</td>\n",
       "      <td>300</td>\n",
       "      <td>1</td>\n",
       "      <td>Lunch, Cash, Debit Card, Dinner, Takeaway Avai...</td>\n",
       "      <td>3.9</td>\n",
       "      <td>Good</td>\n",
       "      <td>142</td>\n",
       "      <td>34</td>\n",
       "      <td>-1</td>\n",
       "      <td>0.334626</td>\n",
       "    </tr>\n",
       "  </tbody>\n",
       "</table>\n",
       "<p>6494 rows × 22 columns</p>\n",
       "</div>"
      ],
      "text/plain": [
       "          res_id                   name  establishment  \\\n",
       "134852  18562340            Drinkery 51  Casual Dining   \n",
       "134853     34757            Joeys Pizza    Quick Bites   \n",
       "134854  18548172                Hitchki            Bar   \n",
       "134855  18392725                Tamasha         Lounge   \n",
       "134856  18962112               Bayroute    Fine Dining   \n",
       "...          ...                    ...            ...   \n",
       "142348     46792       BOX8- Desi Meals            NaN   \n",
       "142349     37750                 Faasos    Quick Bites   \n",
       "142350  18165909  Charcoal Eats Express    Quick Bites   \n",
       "142351  18306481            Wok Express     Food Court   \n",
       "142352  18140577            Rasoi Thali    Quick Bites   \n",
       "\n",
       "                                                      url  \\\n",
       "134852  https://www.zomato.com/mumbai/drinkery-51-band...   \n",
       "134853  https://www.zomato.com/mumbai/joeys-pizza-mala...   \n",
       "134854  https://www.zomato.com/mumbai/hitchki-powai?ut...   \n",
       "134855  https://www.zomato.com/mumbai/tamasha-lower-pa...   \n",
       "134856  https://www.zomato.com/mumbai/bayroute-juhu?ut...   \n",
       "...                                                   ...   \n",
       "142348  https://www.zomato.com/mumbai/box8-desi-meals-...   \n",
       "142349  https://www.zomato.com/mumbai/faasos-veera-des...   \n",
       "142350  https://www.zomato.com/mumbai/charcoal-eats-ex...   \n",
       "142351  https://www.zomato.com/mumbai/wok-express-1-an...   \n",
       "142352  https://www.zomato.com/mumbai/rasoi-thali-mulu...   \n",
       "\n",
       "                                                  address    city  \\\n",
       "134852  1st Floor, Vibgyor Towers, Bandra Kurla Comple...  Mumbai   \n",
       "134853  Shop 1, Plot D, Samruddhi Complex, Chincholi B...  Mumbai   \n",
       "134854  5, Transocean, Hiranandani Business Park, Lake...  Mumbai   \n",
       "134855  Ground Floor, Victoria House, E.B Marg, Lower ...  Mumbai   \n",
       "134856  14, Silver Beach Estate, A.B. Nair Road, Oppos...  Mumbai   \n",
       "...                                                   ...     ...   \n",
       "142348  102, Bhavani Industrial Estate, Opposite IIT B...  Mumbai   \n",
       "142349  Shop 06, Building 2, Pramukh Park Rehab CHS Li...  Mumbai   \n",
       "142350         Opposite Kamala Mills, Lower Parel, Mumbai  Mumbai   \n",
       "142351  Food Court, 2nd Floor, Infinity Mall, Unit 215...  Mumbai   \n",
       "142352  Shop 5, Bhodke Building, Near Hanuman Mandir, ...  Mumbai   \n",
       "\n",
       "                                                locality   latitude  \\\n",
       "134852                              Bandra Kurla Complex  19.067176   \n",
       "134853                                        Malad West  19.178188   \n",
       "134854                                             Powai  19.119930   \n",
       "134855                                       Lower Parel  19.006060   \n",
       "134856                                              Juhu  19.110684   \n",
       "...                                                  ...        ...   \n",
       "142348                                             Powai  19.124284   \n",
       "142349                                  Veera Desai Area  19.139601   \n",
       "142350                                       Lower Parel  19.002537   \n",
       "142351  Infiniti Mall, Andheri Lokhandwala, Andheri West  19.141117   \n",
       "142352                                       Mulund West  19.172657   \n",
       "\n",
       "        longitude  country_id  ...                                    timings  \\\n",
       "134852  72.867493           1  ...                         12 Noon to 1:30 AM   \n",
       "134853  72.834666           1  ...                11am – 12midnight (Mon-Sun)   \n",
       "134854  72.907331           1  ...                         12 Noon to 1:30 AM   \n",
       "134855  72.827496           1  ...                            12 Noon to 1 AM   \n",
       "134856  72.825368           1  ...                         12 Noon to 1:30 AM   \n",
       "...           ...         ...  ...                                        ...   \n",
       "142348  72.914877           1  ...                              11 AM to 1 AM   \n",
       "142349  72.833119           1  ...                        9 AM to 12 Midnight   \n",
       "142350  72.829391           1  ...                          11:30 AM to 11 PM   \n",
       "142351  72.831181           1  ...                             11 AM to 11 PM   \n",
       "142352  72.956466           1  ...  11 AM to 3:30 PM, 7 PM to 11 PM (Mon-Sun)   \n",
       "\n",
       "       average_cost_for_two price_range  \\\n",
       "134852                 2000           4   \n",
       "134853                  800           2   \n",
       "134854                 1600           3   \n",
       "134855                 2700           4   \n",
       "134856                 3000           4   \n",
       "...                     ...         ...   \n",
       "142348                  400           1   \n",
       "142349                  450           1   \n",
       "142350                  500           2   \n",
       "142351                  600           2   \n",
       "142352                  300           1   \n",
       "\n",
       "                                               highlights aggregate_rating  \\\n",
       "134852  Dinner, Debit Card, Lunch, Serves Alcohol, Cas...              4.4   \n",
       "134853  Lunch, Cash, Takeaway Available, Debit Card, D...              4.5   \n",
       "134854  Lunch, Serves Alcohol, Cash, Credit Card, Dinn...              4.7   \n",
       "134855  Dinner, Cash, Takeaway Available, Credit Card,...              4.7   \n",
       "134856  Dinner, Cash, Takeaway Available, Debit Card, ...              4.9   \n",
       "...                                                   ...              ...   \n",
       "142348  Cash, Debit Card, Takeaway Available, No Seati...              4.0   \n",
       "142349  Dinner, Cash, Takeaway Available, Debit Card, ...              3.9   \n",
       "142350  Lunch, Cash, Credit Card, Dinner, Standing Tab...              4.0   \n",
       "142351  No Alcohol Available, Dinner, Mall Parking, De...              3.7   \n",
       "142352  Lunch, Cash, Debit Card, Dinner, Takeaway Avai...              3.9   \n",
       "\n",
       "       rating_text  votes photo_count  delivery  latitude_in_radians  \n",
       "134852   Very Good   3796        1897         1             0.332785  \n",
       "134853   Excellent   7932        4960        -1             0.334723  \n",
       "134854   Excellent   3762       12979         1             0.333706  \n",
       "134855   Excellent   4979       16595        -1             0.331718  \n",
       "134856   Excellent    706        2484        -1             0.333544  \n",
       "...            ...    ...         ...       ...                  ...  \n",
       "142348   Very Good    726         703         1             0.333782  \n",
       "142349        Good    510         251         1             0.334049  \n",
       "142350   Very Good    491         344        -1             0.331657  \n",
       "142351        Good    515         490        -1             0.334076  \n",
       "142352        Good    142          34        -1             0.334626  \n",
       "\n",
       "[6494 rows x 22 columns]"
      ]
     },
     "execution_count": 60,
     "metadata": {},
     "output_type": "execute_result"
    }
   ],
   "source": [
    "mumbai_ds"
   ]
  },
  {
   "cell_type": "code",
   "execution_count": 61,
   "metadata": {},
   "outputs": [],
   "source": [
    "def unique(val):\n",
    "    v = []\n",
    "    if(val['cuisines'].value_counts() == 1).any():\n",
    "        v.append(dataset['cuisines'])\n",
    "    return v\n",
    "values = unique(mumbai_ds)"
   ]
  },
  {
   "cell_type": "code",
   "execution_count": 62,
   "metadata": {},
   "outputs": [
    {
     "name": "stdout",
     "output_type": "stream",
     "text": [
      "0     North Indian, South Indian, Mithai, Street Foo...\n",
      "1     North Indian, Mughlai, Rolls, Chinese, Fast Fo...\n",
      "2                                     Fast Food, Mithai\n",
      "3             Desserts, Bakery, Fast Food, South Indian\n",
      "4                    North Indian, Continental, Italian\n",
      "5                                      Pizza, Fast Food\n",
      "6        North Indian, Fast Food, Chinese, South Indian\n",
      "7                                      Pizza, Fast Food\n",
      "8                                     Bakery, Fast Food\n",
      "9     Cafe, Chinese, Continental, Italian, Bakery, D...\n",
      "10                   Continental, North Indian, Chinese\n",
      "11    North Indian, South Indian, Mithai, Street Foo...\n",
      "12                            Pizza, Fast Food, Italian\n",
      "13                                         North Indian\n",
      "14    North Indian, South Indian, Chinese, Bakery, C...\n",
      "15                                     Pizza, Fast Food\n",
      "16                       North Indian, Chinese, Mughlai\n",
      "17                                    Burger, Fast Food\n",
      "18    Desserts, North Indian, South Indian, Chinese,...\n",
      "19                Fast Food, Wraps, Desserts, Beverages\n",
      "Name: cuisines, dtype: category\n",
      "Categories (9382, object): [Afghan, Afghan, American, Afghan, Arabian, BBQ, Beverages, Biryani, Maha..., Afghan, Arabian, BBQ, Beverages, Burger, ..., Wraps, Sandwich, Pizza, Bakery, Wraps, Sandwich, Rolls, Fast Food, Burger, Wraps, Sandwich, Rolls, Pizza, Burger, Wraps, Sandwich, Salad, Pizza, Burger, Beverages]\n"
     ]
    }
   ],
   "source": [
    "print(values[0][0:20])"
   ]
  },
  {
   "cell_type": "markdown",
   "metadata": {},
   "source": [
    "**3. To find the popular localities in Mumbai**"
   ]
  },
  {
   "cell_type": "code",
   "execution_count": 63,
   "metadata": {},
   "outputs": [
    {
     "data": {
      "text/plain": [
       "Powai                                297\n",
       "Andheri Lokhandwala, Andheri West    292\n",
       "Malad West                           209\n",
       "Borivali West                        202\n",
       "Bandra Kurla Complex                 184\n",
       "                                    ... \n",
       "Pashan                                 0\n",
       "Paschim Vihar                          0\n",
       "Parvati                                0\n",
       "Partapur                               0\n",
       " 32nd Avenue, NH8, Gurgaon             0\n",
       "Name: locality, Length: 3731, dtype: int64"
      ]
     },
     "execution_count": 63,
     "metadata": {},
     "output_type": "execute_result"
    }
   ],
   "source": [
    "mumbai_ds.locality.value_counts()"
   ]
  },
  {
   "cell_type": "markdown",
   "metadata": {},
   "source": [
    "##### Powai is the most popular locality with 297 zomato users, Partapur is one amongst the least popular locality with 0 zomato users"
   ]
  },
  {
   "cell_type": "markdown",
   "metadata": {},
   "source": [
    "**4. Check for relationship between 'aggregate_rating' and 'average_cost_for_two'**"
   ]
  },
  {
   "cell_type": "code",
   "execution_count": 64,
   "metadata": {},
   "outputs": [
    {
     "data": {
      "image/png": "[encoded data removed]",
      "text/plain": [
       "<Figure size 2160x1440 with 2 Axes>"
      ]
     },
     "metadata": {
      "needs_background": "light"
     },
     "output_type": "display_data"
    }
   ],
   "source": [
    "plt.figure(figsize=(30,20))\n",
    "cor = mumbai_ds.corr()\n",
    "sns.heatmap(cor, annot=True, cmap=plt.cm.Reds)\n",
    "plt.show()"
   ]
  },
  {
   "cell_type": "markdown",
   "metadata": {},
   "source": [
    "#### From the corr plot we see that there is a weak correlation between aggregate_rating and  average_cost_for_two with the value of 0.25"
   ]
  },
  {
   "cell_type": "code",
   "execution_count": 65,
   "metadata": {},
   "outputs": [
    {
     "data": {
      "text/html": [
       "<div>\n",
       "<style scoped>\n",
       "    .dataframe tbody tr th:only-of-type {\n",
       "        vertical-align: middle;\n",
       "    }\n",
       "\n",
       "    .dataframe tbody tr th {\n",
       "        vertical-align: top;\n",
       "    }\n",
       "\n",
       "    .dataframe thead th {\n",
       "        text-align: right;\n",
       "    }\n",
       "</style>\n",
       "<table border=\"1\" class=\"dataframe\">\n",
       "  <thead>\n",
       "    <tr style=\"text-align: right;\">\n",
       "      <th></th>\n",
       "      <th>res_id</th>\n",
       "      <th>name</th>\n",
       "      <th>establishment</th>\n",
       "      <th>url</th>\n",
       "      <th>address</th>\n",
       "      <th>city</th>\n",
       "      <th>locality</th>\n",
       "      <th>latitude</th>\n",
       "      <th>longitude</th>\n",
       "      <th>country_id</th>\n",
       "      <th>...</th>\n",
       "      <th>timings</th>\n",
       "      <th>average_cost_for_two</th>\n",
       "      <th>price_range</th>\n",
       "      <th>highlights</th>\n",
       "      <th>aggregate_rating</th>\n",
       "      <th>rating_text</th>\n",
       "      <th>votes</th>\n",
       "      <th>photo_count</th>\n",
       "      <th>delivery</th>\n",
       "      <th>latitude_in_radians</th>\n",
       "    </tr>\n",
       "  </thead>\n",
       "  <tbody>\n",
       "    <tr>\n",
       "      <td>134852</td>\n",
       "      <td>18562340</td>\n",
       "      <td>Drinkery 51</td>\n",
       "      <td>Casual Dining</td>\n",
       "      <td>https://www.zomato.com/mumbai/drinkery-51-band...</td>\n",
       "      <td>1st Floor, Vibgyor Towers, Bandra Kurla Comple...</td>\n",
       "      <td>Mumbai</td>\n",
       "      <td>Bandra Kurla Complex</td>\n",
       "      <td>19.067176</td>\n",
       "      <td>72.867493</td>\n",
       "      <td>1</td>\n",
       "      <td>...</td>\n",
       "      <td>12 Noon to 1:30 AM</td>\n",
       "      <td>2000</td>\n",
       "      <td>4</td>\n",
       "      <td>Dinner, Debit Card, Lunch, Serves Alcohol, Cas...</td>\n",
       "      <td>4.4</td>\n",
       "      <td>Very Good</td>\n",
       "      <td>3796</td>\n",
       "      <td>1897</td>\n",
       "      <td>1</td>\n",
       "      <td>0.332785</td>\n",
       "    </tr>\n",
       "    <tr>\n",
       "      <td>134853</td>\n",
       "      <td>34757</td>\n",
       "      <td>Joeys Pizza</td>\n",
       "      <td>Quick Bites</td>\n",
       "      <td>https://www.zomato.com/mumbai/joeys-pizza-mala...</td>\n",
       "      <td>Shop 1, Plot D, Samruddhi Complex, Chincholi B...</td>\n",
       "      <td>Mumbai</td>\n",
       "      <td>Malad West</td>\n",
       "      <td>19.178188</td>\n",
       "      <td>72.834666</td>\n",
       "      <td>1</td>\n",
       "      <td>...</td>\n",
       "      <td>11am – 12midnight (Mon-Sun)</td>\n",
       "      <td>800</td>\n",
       "      <td>2</td>\n",
       "      <td>Lunch, Cash, Takeaway Available, Debit Card, D...</td>\n",
       "      <td>4.5</td>\n",
       "      <td>Excellent</td>\n",
       "      <td>7932</td>\n",
       "      <td>4960</td>\n",
       "      <td>-1</td>\n",
       "      <td>0.334723</td>\n",
       "    </tr>\n",
       "    <tr>\n",
       "      <td>134854</td>\n",
       "      <td>18548172</td>\n",
       "      <td>Hitchki</td>\n",
       "      <td>Bar</td>\n",
       "      <td>https://www.zomato.com/mumbai/hitchki-powai?ut...</td>\n",
       "      <td>5, Transocean, Hiranandani Business Park, Lake...</td>\n",
       "      <td>Mumbai</td>\n",
       "      <td>Powai</td>\n",
       "      <td>19.119930</td>\n",
       "      <td>72.907331</td>\n",
       "      <td>1</td>\n",
       "      <td>...</td>\n",
       "      <td>12 Noon to 1:30 AM</td>\n",
       "      <td>1600</td>\n",
       "      <td>3</td>\n",
       "      <td>Lunch, Serves Alcohol, Cash, Credit Card, Dinn...</td>\n",
       "      <td>4.7</td>\n",
       "      <td>Excellent</td>\n",
       "      <td>3762</td>\n",
       "      <td>12979</td>\n",
       "      <td>1</td>\n",
       "      <td>0.333706</td>\n",
       "    </tr>\n",
       "    <tr>\n",
       "      <td>134855</td>\n",
       "      <td>18392725</td>\n",
       "      <td>Tamasha</td>\n",
       "      <td>Lounge</td>\n",
       "      <td>https://www.zomato.com/mumbai/tamasha-lower-pa...</td>\n",
       "      <td>Ground Floor, Victoria House, E.B Marg, Lower ...</td>\n",
       "      <td>Mumbai</td>\n",
       "      <td>Lower Parel</td>\n",
       "      <td>19.006060</td>\n",
       "      <td>72.827496</td>\n",
       "      <td>1</td>\n",
       "      <td>...</td>\n",
       "      <td>12 Noon to 1 AM</td>\n",
       "      <td>2700</td>\n",
       "      <td>4</td>\n",
       "      <td>Dinner, Cash, Takeaway Available, Credit Card,...</td>\n",
       "      <td>4.7</td>\n",
       "      <td>Excellent</td>\n",
       "      <td>4979</td>\n",
       "      <td>16595</td>\n",
       "      <td>-1</td>\n",
       "      <td>0.331718</td>\n",
       "    </tr>\n",
       "    <tr>\n",
       "      <td>134856</td>\n",
       "      <td>18962112</td>\n",
       "      <td>Bayroute</td>\n",
       "      <td>Fine Dining</td>\n",
       "      <td>https://www.zomato.com/mumbai/bayroute-juhu?ut...</td>\n",
       "      <td>14, Silver Beach Estate, A.B. Nair Road, Oppos...</td>\n",
       "      <td>Mumbai</td>\n",
       "      <td>Juhu</td>\n",
       "      <td>19.110684</td>\n",
       "      <td>72.825368</td>\n",
       "      <td>1</td>\n",
       "      <td>...</td>\n",
       "      <td>12 Noon to 1:30 AM</td>\n",
       "      <td>3000</td>\n",
       "      <td>4</td>\n",
       "      <td>Dinner, Cash, Takeaway Available, Debit Card, ...</td>\n",
       "      <td>4.9</td>\n",
       "      <td>Excellent</td>\n",
       "      <td>706</td>\n",
       "      <td>2484</td>\n",
       "      <td>-1</td>\n",
       "      <td>0.333544</td>\n",
       "    </tr>\n",
       "    <tr>\n",
       "      <td>...</td>\n",
       "      <td>...</td>\n",
       "      <td>...</td>\n",
       "      <td>...</td>\n",
       "      <td>...</td>\n",
       "      <td>...</td>\n",
       "      <td>...</td>\n",
       "      <td>...</td>\n",
       "      <td>...</td>\n",
       "      <td>...</td>\n",
       "      <td>...</td>\n",
       "      <td>...</td>\n",
       "      <td>...</td>\n",
       "      <td>...</td>\n",
       "      <td>...</td>\n",
       "      <td>...</td>\n",
       "      <td>...</td>\n",
       "      <td>...</td>\n",
       "      <td>...</td>\n",
       "      <td>...</td>\n",
       "      <td>...</td>\n",
       "      <td>...</td>\n",
       "    </tr>\n",
       "    <tr>\n",
       "      <td>142348</td>\n",
       "      <td>46792</td>\n",
       "      <td>BOX8- Desi Meals</td>\n",
       "      <td>NaN</td>\n",
       "      <td>https://www.zomato.com/mumbai/box8-desi-meals-...</td>\n",
       "      <td>102, Bhavani Industrial Estate, Opposite IIT B...</td>\n",
       "      <td>Mumbai</td>\n",
       "      <td>Powai</td>\n",
       "      <td>19.124284</td>\n",
       "      <td>72.914877</td>\n",
       "      <td>1</td>\n",
       "      <td>...</td>\n",
       "      <td>11 AM to 1 AM</td>\n",
       "      <td>400</td>\n",
       "      <td>1</td>\n",
       "      <td>Cash, Debit Card, Takeaway Available, No Seati...</td>\n",
       "      <td>4.0</td>\n",
       "      <td>Very Good</td>\n",
       "      <td>726</td>\n",
       "      <td>703</td>\n",
       "      <td>1</td>\n",
       "      <td>0.333782</td>\n",
       "    </tr>\n",
       "    <tr>\n",
       "      <td>142349</td>\n",
       "      <td>37750</td>\n",
       "      <td>Faasos</td>\n",
       "      <td>Quick Bites</td>\n",
       "      <td>https://www.zomato.com/mumbai/faasos-veera-des...</td>\n",
       "      <td>Shop 06, Building 2, Pramukh Park Rehab CHS Li...</td>\n",
       "      <td>Mumbai</td>\n",
       "      <td>Veera Desai Area</td>\n",
       "      <td>19.139601</td>\n",
       "      <td>72.833119</td>\n",
       "      <td>1</td>\n",
       "      <td>...</td>\n",
       "      <td>9 AM to 12 Midnight</td>\n",
       "      <td>450</td>\n",
       "      <td>1</td>\n",
       "      <td>Dinner, Cash, Takeaway Available, Debit Card, ...</td>\n",
       "      <td>3.9</td>\n",
       "      <td>Good</td>\n",
       "      <td>510</td>\n",
       "      <td>251</td>\n",
       "      <td>1</td>\n",
       "      <td>0.334049</td>\n",
       "    </tr>\n",
       "    <tr>\n",
       "      <td>142350</td>\n",
       "      <td>18165909</td>\n",
       "      <td>Charcoal Eats Express</td>\n",
       "      <td>Quick Bites</td>\n",
       "      <td>https://www.zomato.com/mumbai/charcoal-eats-ex...</td>\n",
       "      <td>Opposite Kamala Mills, Lower Parel, Mumbai</td>\n",
       "      <td>Mumbai</td>\n",
       "      <td>Lower Parel</td>\n",
       "      <td>19.002537</td>\n",
       "      <td>72.829391</td>\n",
       "      <td>1</td>\n",
       "      <td>...</td>\n",
       "      <td>11:30 AM to 11 PM</td>\n",
       "      <td>500</td>\n",
       "      <td>2</td>\n",
       "      <td>Lunch, Cash, Credit Card, Dinner, Standing Tab...</td>\n",
       "      <td>4.0</td>\n",
       "      <td>Very Good</td>\n",
       "      <td>491</td>\n",
       "      <td>344</td>\n",
       "      <td>-1</td>\n",
       "      <td>0.331657</td>\n",
       "    </tr>\n",
       "    <tr>\n",
       "      <td>142351</td>\n",
       "      <td>18306481</td>\n",
       "      <td>Wok Express</td>\n",
       "      <td>Food Court</td>\n",
       "      <td>https://www.zomato.com/mumbai/wok-express-1-an...</td>\n",
       "      <td>Food Court, 2nd Floor, Infinity Mall, Unit 215...</td>\n",
       "      <td>Mumbai</td>\n",
       "      <td>Infiniti Mall, Andheri Lokhandwala, Andheri West</td>\n",
       "      <td>19.141117</td>\n",
       "      <td>72.831181</td>\n",
       "      <td>1</td>\n",
       "      <td>...</td>\n",
       "      <td>11 AM to 11 PM</td>\n",
       "      <td>600</td>\n",
       "      <td>2</td>\n",
       "      <td>No Alcohol Available, Dinner, Mall Parking, De...</td>\n",
       "      <td>3.7</td>\n",
       "      <td>Good</td>\n",
       "      <td>515</td>\n",
       "      <td>490</td>\n",
       "      <td>-1</td>\n",
       "      <td>0.334076</td>\n",
       "    </tr>\n",
       "    <tr>\n",
       "      <td>142352</td>\n",
       "      <td>18140577</td>\n",
       "      <td>Rasoi Thali</td>\n",
       "      <td>Quick Bites</td>\n",
       "      <td>https://www.zomato.com/mumbai/rasoi-thali-mulu...</td>\n",
       "      <td>Shop 5, Bhodke Building, Near Hanuman Mandir, ...</td>\n",
       "      <td>Mumbai</td>\n",
       "      <td>Mulund West</td>\n",
       "      <td>19.172657</td>\n",
       "      <td>72.956466</td>\n",
       "      <td>1</td>\n",
       "      <td>...</td>\n",
       "      <td>11 AM to 3:30 PM, 7 PM to 11 PM (Mon-Sun)</td>\n",
       "      <td>300</td>\n",
       "      <td>1</td>\n",
       "      <td>Lunch, Cash, Debit Card, Dinner, Takeaway Avai...</td>\n",
       "      <td>3.9</td>\n",
       "      <td>Good</td>\n",
       "      <td>142</td>\n",
       "      <td>34</td>\n",
       "      <td>-1</td>\n",
       "      <td>0.334626</td>\n",
       "    </tr>\n",
       "  </tbody>\n",
       "</table>\n",
       "<p>6494 rows × 22 columns</p>\n",
       "</div>"
      ],
      "text/plain": [
       "          res_id                   name  establishment  \\\n",
       "134852  18562340            Drinkery 51  Casual Dining   \n",
       "134853     34757            Joeys Pizza    Quick Bites   \n",
       "134854  18548172                Hitchki            Bar   \n",
       "134855  18392725                Tamasha         Lounge   \n",
       "134856  18962112               Bayroute    Fine Dining   \n",
       "...          ...                    ...            ...   \n",
       "142348     46792       BOX8- Desi Meals            NaN   \n",
       "142349     37750                 Faasos    Quick Bites   \n",
       "142350  18165909  Charcoal Eats Express    Quick Bites   \n",
       "142351  18306481            Wok Express     Food Court   \n",
       "142352  18140577            Rasoi Thali    Quick Bites   \n",
       "\n",
       "                                                      url  \\\n",
       "134852  https://www.zomato.com/mumbai/drinkery-51-band...   \n",
       "134853  https://www.zomato.com/mumbai/joeys-pizza-mala...   \n",
       "134854  https://www.zomato.com/mumbai/hitchki-powai?ut...   \n",
       "134855  https://www.zomato.com/mumbai/tamasha-lower-pa...   \n",
       "134856  https://www.zomato.com/mumbai/bayroute-juhu?ut...   \n",
       "...                                                   ...   \n",
       "142348  https://www.zomato.com/mumbai/box8-desi-meals-...   \n",
       "142349  https://www.zomato.com/mumbai/faasos-veera-des...   \n",
       "142350  https://www.zomato.com/mumbai/charcoal-eats-ex...   \n",
       "142351  https://www.zomato.com/mumbai/wok-express-1-an...   \n",
       "142352  https://www.zomato.com/mumbai/rasoi-thali-mulu...   \n",
       "\n",
       "                                                  address    city  \\\n",
       "134852  1st Floor, Vibgyor Towers, Bandra Kurla Comple...  Mumbai   \n",
       "134853  Shop 1, Plot D, Samruddhi Complex, Chincholi B...  Mumbai   \n",
       "134854  5, Transocean, Hiranandani Business Park, Lake...  Mumbai   \n",
       "134855  Ground Floor, Victoria House, E.B Marg, Lower ...  Mumbai   \n",
       "134856  14, Silver Beach Estate, A.B. Nair Road, Oppos...  Mumbai   \n",
       "...                                                   ...     ...   \n",
       "142348  102, Bhavani Industrial Estate, Opposite IIT B...  Mumbai   \n",
       "142349  Shop 06, Building 2, Pramukh Park Rehab CHS Li...  Mumbai   \n",
       "142350         Opposite Kamala Mills, Lower Parel, Mumbai  Mumbai   \n",
       "142351  Food Court, 2nd Floor, Infinity Mall, Unit 215...  Mumbai   \n",
       "142352  Shop 5, Bhodke Building, Near Hanuman Mandir, ...  Mumbai   \n",
       "\n",
       "                                                locality   latitude  \\\n",
       "134852                              Bandra Kurla Complex  19.067176   \n",
       "134853                                        Malad West  19.178188   \n",
       "134854                                             Powai  19.119930   \n",
       "134855                                       Lower Parel  19.006060   \n",
       "134856                                              Juhu  19.110684   \n",
       "...                                                  ...        ...   \n",
       "142348                                             Powai  19.124284   \n",
       "142349                                  Veera Desai Area  19.139601   \n",
       "142350                                       Lower Parel  19.002537   \n",
       "142351  Infiniti Mall, Andheri Lokhandwala, Andheri West  19.141117   \n",
       "142352                                       Mulund West  19.172657   \n",
       "\n",
       "        longitude  country_id  ...                                    timings  \\\n",
       "134852  72.867493           1  ...                         12 Noon to 1:30 AM   \n",
       "134853  72.834666           1  ...                11am – 12midnight (Mon-Sun)   \n",
       "134854  72.907331           1  ...                         12 Noon to 1:30 AM   \n",
       "134855  72.827496           1  ...                            12 Noon to 1 AM   \n",
       "134856  72.825368           1  ...                         12 Noon to 1:30 AM   \n",
       "...           ...         ...  ...                                        ...   \n",
       "142348  72.914877           1  ...                              11 AM to 1 AM   \n",
       "142349  72.833119           1  ...                        9 AM to 12 Midnight   \n",
       "142350  72.829391           1  ...                          11:30 AM to 11 PM   \n",
       "142351  72.831181           1  ...                             11 AM to 11 PM   \n",
       "142352  72.956466           1  ...  11 AM to 3:30 PM, 7 PM to 11 PM (Mon-Sun)   \n",
       "\n",
       "       average_cost_for_two price_range  \\\n",
       "134852                 2000           4   \n",
       "134853                  800           2   \n",
       "134854                 1600           3   \n",
       "134855                 2700           4   \n",
       "134856                 3000           4   \n",
       "...                     ...         ...   \n",
       "142348                  400           1   \n",
       "142349                  450           1   \n",
       "142350                  500           2   \n",
       "142351                  600           2   \n",
       "142352                  300           1   \n",
       "\n",
       "                                               highlights aggregate_rating  \\\n",
       "134852  Dinner, Debit Card, Lunch, Serves Alcohol, Cas...              4.4   \n",
       "134853  Lunch, Cash, Takeaway Available, Debit Card, D...              4.5   \n",
       "134854  Lunch, Serves Alcohol, Cash, Credit Card, Dinn...              4.7   \n",
       "134855  Dinner, Cash, Takeaway Available, Credit Card,...              4.7   \n",
       "134856  Dinner, Cash, Takeaway Available, Debit Card, ...              4.9   \n",
       "...                                                   ...              ...   \n",
       "142348  Cash, Debit Card, Takeaway Available, No Seati...              4.0   \n",
       "142349  Dinner, Cash, Takeaway Available, Debit Card, ...              3.9   \n",
       "142350  Lunch, Cash, Credit Card, Dinner, Standing Tab...              4.0   \n",
       "142351  No Alcohol Available, Dinner, Mall Parking, De...              3.7   \n",
       "142352  Lunch, Cash, Debit Card, Dinner, Takeaway Avai...              3.9   \n",
       "\n",
       "       rating_text  votes photo_count  delivery  latitude_in_radians  \n",
       "134852   Very Good   3796        1897         1             0.332785  \n",
       "134853   Excellent   7932        4960        -1             0.334723  \n",
       "134854   Excellent   3762       12979         1             0.333706  \n",
       "134855   Excellent   4979       16595        -1             0.331718  \n",
       "134856   Excellent    706        2484        -1             0.333544  \n",
       "...            ...    ...         ...       ...                  ...  \n",
       "142348   Very Good    726         703         1             0.333782  \n",
       "142349        Good    510         251         1             0.334049  \n",
       "142350   Very Good    491         344        -1             0.331657  \n",
       "142351        Good    515         490        -1             0.334076  \n",
       "142352        Good    142          34        -1             0.334626  \n",
       "\n",
       "[6494 rows x 22 columns]"
      ]
     },
     "execution_count": 65,
     "metadata": {},
     "output_type": "execute_result"
    }
   ],
   "source": [
    "mumbai_ds"
   ]
  },
  {
   "cell_type": "markdown",
   "metadata": {},
   "source": [
    "**5. Multiple box plot for photo_counts based on establishment type.**\n",
    "\n"
   ]
  },
  {
   "cell_type": "code",
   "execution_count": 67,
   "metadata": {},
   "outputs": [
    {
     "data": {
      "text/plain": [
       "<matplotlib.axes._subplots.AxesSubplot at 0x1a189674d0>"
      ]
     },
     "execution_count": 67,
     "metadata": {},
     "output_type": "execute_result"
    },
    {
     "data": {
      "image/png": "[encoded data removed]",
      "text/plain": [
       "<Figure size 432x288 with 1 Axes>"
      ]
     },
     "metadata": {
      "needs_background": "light"
     },
     "output_type": "display_data"
    }
   ],
   "source": [
    "mumbai_ds.boxplot(by = 'establishment', column = ['photo_count'], grid = False) "
   ]
  },
  {
   "cell_type": "code",
   "execution_count": 69,
   "metadata": {},
   "outputs": [],
   "source": [
    "# mumbai_ds.boxplot(by = 'photo_count', column = ['establishment'], grid = False) "
   ]
  },
  {
   "cell_type": "markdown",
   "metadata": {},
   "source": [
    "**6. Check for payments method offered in restaurants**"
   ]
  },
  {
   "cell_type": "markdown",
   "metadata": {},
   "source": [
    "- select unique facilities available at restaurants in western region\n",
    "- sort facilities based on frequency\n"
   ]
  },
  {
   "cell_type": "code",
   "execution_count": null,
   "metadata": {},
   "outputs": [],
   "source": []
  }
 ],
 "metadata": {
  "kernelspec": {
   "display_name": "Python 3",
   "language": "python",
   "name": "python3"
  },
  "language_info": {
   "codemirror_mode": {
    "name": "ipython",
    "version": 3
   },
   "file_extension": ".py",
   "mimetype": "text/x-python",
   "name": "python",
   "nbconvert_exporter": "python",
   "pygments_lexer": "ipython3",
   "version": "3.7.4"
  }
 },
 "nbformat": 4,
 "nbformat_minor": 2
}
